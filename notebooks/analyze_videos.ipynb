{
 "cells": [
  {
   "cell_type": "code",
   "execution_count": 1,
   "metadata": {},
   "outputs": [],
   "source": [
    "%load_ext autoreload\n",
    "%load_ext line_profiler\n",
    "%matplotlib qt\n",
    "%autoreload 2"
   ]
  },
  {
   "cell_type": "code",
   "execution_count": 2,
   "metadata": {},
   "outputs": [
    {
     "name": "stdout",
     "output_type": "stream",
     "text": [
      "c:\\Users\\eac84\\Universiteit Antwerpen\\Thermography - Biomedical thermography\\src\\DeipFlap\n"
     ]
    }
   ],
   "source": [
    "import os\n",
    "os.chdir(\"..\")\n",
    "print(os.getcwd())"
   ]
  },
  {
   "cell_type": "code",
   "execution_count": 8,
   "metadata": {},
   "outputs": [
    {
     "ename": "ModuleNotFoundError",
     "evalue": "No module named 'thermography_python'",
     "output_type": "error",
     "traceback": [
      "\u001b[1;31m---------------------------------------------------------------------------\u001b[0m",
      "\u001b[1;31mModuleNotFoundError\u001b[0m                       Traceback (most recent call last)",
      "\u001b[1;32m<ipython-input-8-0d5fef4dd1b1>\u001b[0m in \u001b[0;36m<module>\u001b[1;34m\u001b[0m\n\u001b[0;32m      1\u001b[0m \u001b[1;32mfrom\u001b[0m \u001b[0mretna\u001b[0m\u001b[1;33m.\u001b[0m\u001b[0msegment\u001b[0m \u001b[1;32mimport\u001b[0m \u001b[0msegment_data\u001b[0m\u001b[1;33m\u001b[0m\u001b[1;33m\u001b[0m\u001b[0m\n\u001b[1;32m----> 2\u001b[1;33m \u001b[1;32mfrom\u001b[0m \u001b[0mthermography_python\u001b[0m\u001b[1;33m.\u001b[0m\u001b[0mbase\u001b[0m \u001b[1;32mimport\u001b[0m \u001b[0mThermoData\u001b[0m\u001b[1;33m\u001b[0m\u001b[1;33m\u001b[0m\u001b[0m\n\u001b[0m\u001b[0;32m      3\u001b[0m \u001b[1;32mfrom\u001b[0m \u001b[0mthermography_python\u001b[0m\u001b[1;33m.\u001b[0m\u001b[0mrender\u001b[0m \u001b[1;32mimport\u001b[0m \u001b[0mrender_video\u001b[0m\u001b[1;33m\u001b[0m\u001b[1;33m\u001b[0m\u001b[0m\n\u001b[0;32m      4\u001b[0m \u001b[1;32mimport\u001b[0m \u001b[0mglob\u001b[0m\u001b[1;33m\u001b[0m\u001b[1;33m\u001b[0m\u001b[0m\n",
      "\u001b[1;31mModuleNotFoundError\u001b[0m: No module named 'thermography_python'"
     ]
    }
   ],
   "source": [
    "from retna.segment import segment_data\n",
    "from thermography_python.base import ThermoData\n",
    "from thermography_python.render import render_video\n"
   ]
  },
  {
   "cell_type": "code",
   "execution_count": 9,
   "metadata": {},
   "outputs": [],
   "source": [
    "import glob"
   ]
  },
  {
   "cell_type": "code",
   "execution_count": 16,
   "metadata": {},
   "outputs": [],
   "source": [
    "from thermography_python.io import read_H5"
   ]
  },
  {
   "cell_type": "code",
   "execution_count": 5,
   "metadata": {},
   "outputs": [],
   "source": [
    "\n",
    "import torch"
   ]
  },
  {
   "cell_type": "code",
   "execution_count": 14,
   "metadata": {},
   "outputs": [],
   "source": [
    "root = \"T:\\ProjectData\\DEIP FLAP\"\n",
    "root = \"//143.129.24.212/ProjectData/3_phd/Edgar/DIEP FLAP\""
   ]
  },
  {
   "cell_type": "code",
   "execution_count": 15,
   "metadata": {},
   "outputs": [
    {
     "data": {
      "text/plain": [
       "['//143.129.24.212/ProjectData/3_phd/Edgar/DIEP FLAP\\\\20190921_1--PRE-UZA-20-09-19.H5',\n",
       " '//143.129.24.212/ProjectData/3_phd/Edgar/DIEP FLAP\\\\20190921_2-INTRA-UZA-20-09-19.H5',\n",
       " '//143.129.24.212/ProjectData/3_phd/Edgar/DIEP FLAP\\\\20190921_3-INTRA2-UZA-20-09-19-(enkel-venae-open).H5',\n",
       " '//143.129.24.212/ProjectData/3_phd/Edgar/DIEP FLAP\\\\20190921_4-INTRA-UZA-20-09-19-(alles-open).H5',\n",
       " '//143.129.24.212/ProjectData/3_phd/Edgar/DIEP FLAP\\\\20190921_5-INTRA-UZA-20-09-19-(alles-open-+beter-zicht).H5',\n",
       " '//143.129.24.212/ProjectData/3_phd/Edgar/DIEP FLAP\\\\20190921_6-INTRA-UZA-20-09-19-.H5',\n",
       " '//143.129.24.212/ProjectData/3_phd/Edgar/DIEP FLAP\\\\20190921_na-flap-inset.H5',\n",
       " '//143.129.24.212/ProjectData/3_phd/Edgar/DIEP FLAP\\\\20190921_per-op-dissectie-en-beide-open.H5',\n",
       " '//143.129.24.212/ProjectData/3_phd/Edgar/DIEP FLAP\\\\20191120_INTRALinks.H5',\n",
       " '//143.129.24.212/ProjectData/3_phd/Edgar/DIEP FLAP\\\\20191120_INTRARechts.H5',\n",
       " '//143.129.24.212/ProjectData/3_phd/Edgar/DIEP FLAP\\\\20191120_post.H5',\n",
       " '//143.129.24.212/ProjectData/3_phd/Edgar/DIEP FLAP\\\\20191120_PRE.H5',\n",
       " '//143.129.24.212/ProjectData/3_phd/Edgar/DIEP FLAP\\\\20200117_anastomose-li-flap-op-re-borst.H5',\n",
       " '//143.129.24.212/ProjectData/3_phd/Edgar/DIEP FLAP\\\\20200117_anastomose-re-flap-op-li-borst.H5',\n",
       " '//143.129.24.212/ProjectData/3_phd/Edgar/DIEP FLAP\\\\20200117_li-flap;-perfo-lager-in-flap-dan-op-eerste-tekening.H5',\n",
       " '//143.129.24.212/ProjectData/3_phd/Edgar/DIEP FLAP\\\\20200117_per-op-re-flap-2-perfo-lager-dan-eerste-tekening.H5',\n",
       " '//143.129.24.212/ProjectData/3_phd/Edgar/DIEP FLAP\\\\20200117_post-op-ingehecht.H5',\n",
       " '//143.129.24.212/ProjectData/3_phd/Edgar/DIEP FLAP\\\\20200117_post-op-met-cooling.H5',\n",
       " '//143.129.24.212/ProjectData/3_phd/Edgar/DIEP FLAP\\\\20200117_pre-met-cooling.H5',\n",
       " '//143.129.24.212/ProjectData/3_phd/Edgar/DIEP FLAP\\\\20200117_pre-op.H5',\n",
       " '//143.129.24.212/ProjectData/3_phd/Edgar/DIEP FLAP\\\\20200121_anastomose-li-flap-op-re-borst-bloeddruk-omhoog.H5',\n",
       " '//143.129.24.212/ProjectData/3_phd/Edgar/DIEP FLAP\\\\20200121_anastomose-li-flap-op-re-borst.H5',\n",
       " '//143.129.24.212/ProjectData/3_phd/Edgar/DIEP FLAP\\\\20200121_li-borst-re-flap-na-anastomose.H5',\n",
       " '//143.129.24.212/ProjectData/3_phd/Edgar/DIEP FLAP\\\\20200121_li-flap-met-cooling.H5',\n",
       " '//143.129.24.212/ProjectData/3_phd/Edgar/DIEP FLAP\\\\20200121_pre-op-met-cooling.H5',\n",
       " '//143.129.24.212/ProjectData/3_phd/Edgar/DIEP FLAP\\\\20200121_pre-op-zonder-cooling.H5',\n",
       " '//143.129.24.212/ProjectData/3_phd/Edgar/DIEP FLAP\\\\20200121_rechter-flap-met-koeling.H5',\n",
       " '//143.129.24.212/ProjectData/3_phd/Edgar/DIEP FLAP\\\\20200122_anastomose-re-flap-op-li-borst.H5',\n",
       " '//143.129.24.212/ProjectData/3_phd/Edgar/DIEP FLAP\\\\20200122_na-flap-inset.H5',\n",
       " '//143.129.24.212/ProjectData/3_phd/Edgar/DIEP FLAP\\\\20200122_per-op-dissectie-en-beide-open.H5',\n",
       " '//143.129.24.212/ProjectData/3_phd/Edgar/DIEP FLAP\\\\20200122_pre-op-met-cooling.H5',\n",
       " '//143.129.24.212/ProjectData/3_phd/Edgar/DIEP FLAP\\\\20200122_pre-op-zonder-cooling.H5',\n",
       " '//143.129.24.212/ProjectData/3_phd/Edgar/DIEP FLAP\\\\20200122_re-flap-verbonden-li-door.H5',\n",
       " '//143.129.24.212/ProjectData/3_phd/Edgar/DIEP FLAP\\\\20200701_anastomose,-ingehecht.H5',\n",
       " '//143.129.24.212/ProjectData/3_phd/Edgar/DIEP FLAP\\\\20200701_anastomose.H5',\n",
       " '//143.129.24.212/ProjectData/3_phd/Edgar/DIEP FLAP\\\\20200701_intra1-re-beide-toe-en-li-open.H5',\n",
       " '//143.129.24.212/ProjectData/3_phd/Edgar/DIEP FLAP\\\\20200701_intra1-re-beide-toe-geklipt-en-li-open-extra-cooling.H5',\n",
       " '//143.129.24.212/ProjectData/3_phd/Edgar/DIEP FLAP\\\\20200701_intra1-re-beide-toe-geklipt-en-li-open.H5',\n",
       " '//143.129.24.212/ProjectData/3_phd/Edgar/DIEP FLAP\\\\20200701_pre-op-1.H5',\n",
       " '//143.129.24.212/ProjectData/3_phd/Edgar/DIEP FLAP\\\\20200701_pre-op-met-cooling.H5',\n",
       " '//143.129.24.212/ProjectData/3_phd/Edgar/DIEP FLAP\\\\20200701_pre-op-met-perfos.H5',\n",
       " '//143.129.24.212/ProjectData/3_phd/Edgar/DIEP FLAP\\\\20200702_anastomose-linker-borst.H5',\n",
       " '//143.129.24.212/ProjectData/3_phd/Edgar/DIEP FLAP\\\\20200702_anastomose-rechter-borst.H5',\n",
       " '//143.129.24.212/ProjectData/3_phd/Edgar/DIEP FLAP\\\\20200702_late-meting-op-buik-re.H5',\n",
       " '//143.129.24.212/ProjectData/3_phd/Edgar/DIEP FLAP\\\\20200702_li-flap-na-afklemmen.H5',\n",
       " '//143.129.24.212/ProjectData/3_phd/Edgar/DIEP FLAP\\\\20200702_per-op-met-klemmen-re-flap.H5',\n",
       " '//143.129.24.212/ProjectData/3_phd/Edgar/DIEP FLAP\\\\20200702_pre-op-met-cooling-laat.H5',\n",
       " '//143.129.24.212/ProjectData/3_phd/Edgar/DIEP FLAP\\\\20200702_pre-op-met-cooling.H5',\n",
       " '//143.129.24.212/ProjectData/3_phd/Edgar/DIEP FLAP\\\\20200702_pre-op-zonder-cooling.H5',\n",
       " '//143.129.24.212/ProjectData/3_phd/Edgar/DIEP FLAP\\\\20201202_anastomose-re-borst-en-li-flap.H5',\n",
       " '//143.129.24.212/ProjectData/3_phd/Edgar/DIEP FLAP\\\\20201202_flap-re-op-abdomen.H5',\n",
       " '//143.129.24.212/ProjectData/3_phd/Edgar/DIEP FLAP\\\\20201202_li-borst-laat-na-anastomose.H5',\n",
       " '//143.129.24.212/ProjectData/3_phd/Edgar/DIEP FLAP\\\\20201202_li-borst-re-flap-na-anastomose.H5',\n",
       " '//143.129.24.212/ProjectData/3_phd/Edgar/DIEP FLAP\\\\20201202_per-op-li-flap.H5',\n",
       " '//143.129.24.212/ProjectData/3_phd/Edgar/DIEP FLAP\\\\20201202_pre-op-met-cooling.H5',\n",
       " '//143.129.24.212/ProjectData/3_phd/Edgar/DIEP FLAP\\\\20201202_pre-op-zonder-cooling.H5',\n",
       " '//143.129.24.212/ProjectData/3_phd/Edgar/DIEP FLAP\\\\20201202_re-borst-laat-na-anastomose.H5',\n",
       " '//143.129.24.212/ProjectData/3_phd/Edgar/DIEP FLAP\\\\20210226_li-enkel-open-1-perforan.H5',\n",
       " '//143.129.24.212/ProjectData/3_phd/Edgar/DIEP FLAP\\\\20210226_postop.H5',\n",
       " '//143.129.24.212/ProjectData/3_phd/Edgar/DIEP FLAP\\\\20210226_pre-op-met-cooling.H5',\n",
       " '//143.129.24.212/ProjectData/3_phd/Edgar/DIEP FLAP\\\\20210226_pre-op-zonder-cooling.H5',\n",
       " '//143.129.24.212/ProjectData/3_phd/Edgar/DIEP FLAP\\\\20210226_re-enkel-1-open.H5']"
      ]
     },
     "execution_count": 15,
     "metadata": {},
     "output_type": "execute_result"
    }
   ],
   "source": [
    "H5_fns = glob.glob(root + \"/*.H5\")\n",
    "H5_fns"
   ]
  },
  {
   "cell_type": "code",
   "execution_count": 16,
   "metadata": {},
   "outputs": [
    {
     "ename": "NameError",
     "evalue": "name 'torch' is not defined",
     "output_type": "error",
     "traceback": [
      "\u001b[1;31m---------------------------------------------------------------------------\u001b[0m",
      "\u001b[1;31mNameError\u001b[0m                                 Traceback (most recent call last)",
      "\u001b[1;32m<ipython-input-16-2cd725f5b3ea>\u001b[0m in \u001b[0;36m<module>\u001b[1;34m\u001b[0m\n\u001b[0;32m      1\u001b[0m \u001b[0mmodel_fn\u001b[0m \u001b[1;33m=\u001b[0m \u001b[1;34m\"./models/Flap+Pref3.pt\"\u001b[0m\u001b[1;33m\u001b[0m\u001b[1;33m\u001b[0m\u001b[0m\n\u001b[1;32m----> 2\u001b[1;33m \u001b[0mmodel\u001b[0m \u001b[1;33m=\u001b[0m \u001b[0mtorch\u001b[0m\u001b[1;33m.\u001b[0m\u001b[0mload\u001b[0m\u001b[1;33m(\u001b[0m\u001b[0mmodel_fn\u001b[0m\u001b[1;33m)\u001b[0m\u001b[1;33m\u001b[0m\u001b[1;33m\u001b[0m\u001b[0m\n\u001b[0m\u001b[0;32m      3\u001b[0m \u001b[0mdevice\u001b[0m \u001b[1;33m=\u001b[0m \u001b[0mtorch\u001b[0m\u001b[1;33m.\u001b[0m\u001b[0mdevice\u001b[0m\u001b[1;33m(\u001b[0m\u001b[1;34m\"cuda:0\"\u001b[0m \u001b[1;32mif\u001b[0m \u001b[0mtorch\u001b[0m\u001b[1;33m.\u001b[0m\u001b[0mcuda\u001b[0m\u001b[1;33m.\u001b[0m\u001b[0mis_available\u001b[0m\u001b[1;33m(\u001b[0m\u001b[1;33m)\u001b[0m \u001b[1;32melse\u001b[0m \u001b[1;34m\"cpu\"\u001b[0m\u001b[1;33m)\u001b[0m\u001b[1;33m\u001b[0m\u001b[1;33m\u001b[0m\u001b[0m\n\u001b[0;32m      4\u001b[0m \u001b[0mmodel\u001b[0m \u001b[1;33m=\u001b[0m \u001b[0mmodel\u001b[0m\u001b[1;33m.\u001b[0m\u001b[0mto\u001b[0m\u001b[1;33m(\u001b[0m\u001b[0mdevice\u001b[0m\u001b[1;33m)\u001b[0m\u001b[1;33m\u001b[0m\u001b[1;33m\u001b[0m\u001b[0m\n",
      "\u001b[1;31mNameError\u001b[0m: name 'torch' is not defined"
     ]
    }
   ],
   "source": [
    "model_fn = \"./models/Flap+Pref3.pt\"\n",
    "model = torch.load(model_fn)\n",
    "device = torch.device(\"cuda:0\" if torch.cuda.is_available() else \"cpu\")\n",
    "model = model.to(device)"
   ]
  },
  {
   "cell_type": "code",
   "execution_count": 17,
   "metadata": {
    "scrolled": true
   },
   "outputs": [
    {
     "name": "stdout",
     "output_type": "stream",
     "text": [
      "//143.129.24.212/ProjectData/3_phd/Edgar/DIEP FLAP\\20190921_1--PRE-UZA-20-09-19.H5\n"
     ]
    },
    {
     "ename": "NameError",
     "evalue": "name 'ThermoData' is not defined",
     "output_type": "error",
     "traceback": [
      "\u001b[1;31m---------------------------------------------------------------------------\u001b[0m",
      "\u001b[1;31mNameError\u001b[0m                                 Traceback (most recent call last)",
      "\u001b[1;32m<ipython-input-17-31ebd686dd68>\u001b[0m in \u001b[0;36m<module>\u001b[1;34m\u001b[0m\n\u001b[0;32m      2\u001b[0m \u001b[1;33m\u001b[0m\u001b[0m\n\u001b[0;32m      3\u001b[0m     \u001b[0mprint\u001b[0m\u001b[1;33m(\u001b[0m\u001b[0mfn\u001b[0m\u001b[1;33m)\u001b[0m\u001b[1;33m\u001b[0m\u001b[1;33m\u001b[0m\u001b[0m\n\u001b[1;32m----> 4\u001b[1;33m     \u001b[0mIRT_im\u001b[0m \u001b[1;33m=\u001b[0m \u001b[0mThermoData\u001b[0m\u001b[1;33m(\u001b[0m\u001b[0mfn\u001b[0m\u001b[1;33m)\u001b[0m\u001b[1;33m\u001b[0m\u001b[1;33m\u001b[0m\u001b[0m\n\u001b[0m\u001b[0;32m      5\u001b[0m     \u001b[0mframes\u001b[0m \u001b[1;33m=\u001b[0m \u001b[0msegment_data\u001b[0m\u001b[1;33m(\u001b[0m\u001b[0mmodel\u001b[0m\u001b[1;33m,\u001b[0m \u001b[0mIRT_im\u001b[0m\u001b[1;33m,\u001b[0m \u001b[0mnFrames\u001b[0m\u001b[1;33m=\u001b[0m\u001b[1;36m10\u001b[0m\u001b[1;33m)\u001b[0m\u001b[1;33m\u001b[0m\u001b[1;33m\u001b[0m\u001b[0m\n\u001b[0;32m      6\u001b[0m     \u001b[0mprint\u001b[0m\u001b[1;33m(\u001b[0m\u001b[1;34m\"\"\u001b[0m\u001b[1;33m)\u001b[0m\u001b[1;33m\u001b[0m\u001b[1;33m\u001b[0m\u001b[0m\n",
      "\u001b[1;31mNameError\u001b[0m: name 'ThermoData' is not defined"
     ]
    }
   ],
   "source": [
    "\n",
    "for fn in H5_fns:\n",
    "    \n",
    "    print(fn)\n",
    "    IRT_im = ThermoData(fn)\n",
    "    frames = segment_data(model, IRT_im, nFrames=10)\n",
    "    print(\"\")   \n",
    "    fn_out = (\"_\").join(fn.split(\"\\\\\")[-2:]).split(\".\")[0] + \"_colored.mp4\" \n",
    "    fn_out = \"..//output//\" + fn_out\n",
    "    \n",
    "    if os.path.exists(fn_out):    os.remove(fn_out)\n",
    "    render_video( fn_out, frames )\n",
    "        "
   ]
  },
  {
   "cell_type": "code",
   "execution_count": 18,
   "metadata": {},
   "outputs": [
    {
     "name": "stdout",
     "output_type": "stream",
     "text": [
      "..."
     ]
    }
   ],
   "source": [
    "%lprun -f read_H5 segment_data(model, IRT_im, nFrames=3)"
   ]
  },
  {
   "cell_type": "markdown",
   "metadata": {},
   "source": [
    "## SANDBOX"
   ]
  },
  {
   "cell_type": "code",
   "execution_count": 165,
   "metadata": {},
   "outputs": [],
   "source": [
    "def norm_uint8(d):\n",
    "    d = d - np.min(d)\n",
    "    d = d / np.max(d) \n",
    "    d = (d*255).astype(np.uint8)\n",
    "    return d\n",
    "\n",
    "def seg_flap(data):\n",
    "    \n",
    "    d = data[330]\n",
    "    d = norm_uint8(d)\n",
    "    bmsk = d<25\n",
    "    bmsk = mrp.remove_small_objects(bmsk,100)    \n",
    "    bmsk = mrp.binary_closing(bmsk, mrp.disk(50))\n",
    "    bmsk = mrp.binary_erosion(bmsk , mrp.disk(50))\n",
    "    #bmsk  = mrp.binary_opening(bmsk , mrp.disk(20))\n",
    "    \n",
    "    return bmsk\n",
    "\n",
    "def seg_vessels(d,b_msk):\n",
    "    \n",
    "    im = norm_uint8(d)\n",
    "    bseg = im > np.mean(im[b_msk])\n",
    "    b_ves = b_msk & ~bseg\n",
    "    b_ves  = mrp.binary_erosion(b_ves , mrp.disk(3))\n",
    "    b_ves = mrp.remove_small_objects(b_ves,100)    \n",
    "    \n",
    "    return b_ves\n",
    "\n",
    "def draw_vessels(fn):\n",
    "    \n",
    "    data = read_thermo(fn)\n",
    "    bmsk = seg_flap(data)\n",
    "\n",
    "    frames = []\n",
    "    for idx in np.linspace(250,len(data)-1,100):\n",
    "\n",
    "        d = data[int(idx)]\n",
    "        bV = seg_vessels(d,bmsk)\n",
    "\n",
    "        d = norm_uint8(d)\n",
    "        imin_3 = d[...,None]*[1,1,1]\n",
    "        imin_3 = imin_3.astype(np.uint8)\n",
    "\n",
    "        label = ndi.label(bV)[0]\n",
    "        shapes = seg.label_to_shapes(label, kind=\"poly\", tol=1)\n",
    "        labl_3 = seg.draw_on_im( imin_3, shapes)\n",
    "\n",
    "        frames.append(labl_3)\n",
    "\n",
    "    path_out = \"..//output_ves//\"\n",
    "    fn_out = (\"_\").join(fn.split(\"\\\\\")[-2:]).split(\".\")[0] + \"_colored.mp4\" \n",
    "    fn_out = path_out + fn_out\n",
    "\n",
    "    if not os.path.exists(path_out):    os.mkdir(path_out)\n",
    "    if os.path.exists(fn_out):    os.remove(fn_out)\n",
    "    render_frames( fn_out, frames )    "
   ]
  },
  {
   "cell_type": "code",
   "execution_count": 6,
   "metadata": {},
   "outputs": [
    {
     "ename": "IndexError",
     "evalue": "list index out of range",
     "output_type": "error",
     "traceback": [
      "\u001b[1;31m---------------------------------------------------------------------------\u001b[0m",
      "\u001b[1;31mIndexError\u001b[0m                                Traceback (most recent call last)",
      "\u001b[1;32m<ipython-input-6-ade6143598cf>\u001b[0m in \u001b[0;36m<module>\u001b[1;34m\u001b[0m\n\u001b[0;32m      2\u001b[0m \u001b[0mroot\u001b[0m \u001b[1;33m=\u001b[0m \u001b[1;34m\"C:\\\\Users\\\\eac84\\\\Desktop\\\\FLAP\\\\*\\\\\"\u001b[0m\u001b[1;33m\u001b[0m\u001b[1;33m\u001b[0m\u001b[0m\n\u001b[0;32m      3\u001b[0m \u001b[0mfns\u001b[0m \u001b[1;33m=\u001b[0m \u001b[0mglob\u001b[0m\u001b[1;33m.\u001b[0m\u001b[0mglob\u001b[0m\u001b[1;33m(\u001b[0m\u001b[1;34m\"./training/*input.tiff\"\u001b[0m\u001b[1;33m)\u001b[0m\u001b[1;33m\u001b[0m\u001b[1;33m\u001b[0m\u001b[0m\n\u001b[1;32m----> 4\u001b[1;33m \u001b[0mfns\u001b[0m \u001b[1;33m=\u001b[0m \u001b[1;33m[\u001b[0m\u001b[0mfn\u001b[0m\u001b[1;33m.\u001b[0m\u001b[0msplit\u001b[0m\u001b[1;33m(\u001b[0m\u001b[1;34m\"\\\\\"\u001b[0m\u001b[1;33m)\u001b[0m\u001b[1;33m[\u001b[0m\u001b[1;33m-\u001b[0m\u001b[1;36m1\u001b[0m\u001b[1;33m]\u001b[0m\u001b[1;33m.\u001b[0m\u001b[0msplit\u001b[0m\u001b[1;33m(\u001b[0m\u001b[1;34m\"__\"\u001b[0m\u001b[1;33m)\u001b[0m\u001b[1;33m[\u001b[0m\u001b[1;36m1\u001b[0m\u001b[1;33m]\u001b[0m\u001b[1;33m.\u001b[0m\u001b[0msplit\u001b[0m\u001b[1;33m(\u001b[0m\u001b[1;34m\"_f\"\u001b[0m\u001b[1;33m)\u001b[0m\u001b[1;33m[\u001b[0m\u001b[1;36m0\u001b[0m\u001b[1;33m]\u001b[0m \u001b[1;32mfor\u001b[0m \u001b[0mfn\u001b[0m \u001b[1;32min\u001b[0m \u001b[0mfns\u001b[0m\u001b[1;33m]\u001b[0m\u001b[1;33m\u001b[0m\u001b[1;33m\u001b[0m\u001b[0m\n\u001b[0m\u001b[0;32m      5\u001b[0m \u001b[1;33m\u001b[0m\u001b[0m\n\u001b[0;32m      6\u001b[0m \u001b[0mxvi_fns\u001b[0m \u001b[1;33m=\u001b[0m \u001b[1;33m[\u001b[0m\u001b[0mglob\u001b[0m\u001b[1;33m.\u001b[0m\u001b[0mglob\u001b[0m\u001b[1;33m(\u001b[0m\u001b[0mroot\u001b[0m\u001b[1;33m+\u001b[0m\u001b[0mfn\u001b[0m\u001b[1;33m+\u001b[0m\u001b[1;34m\".xvi\"\u001b[0m\u001b[1;33m)\u001b[0m \u001b[1;32mfor\u001b[0m \u001b[0mfn\u001b[0m \u001b[1;32min\u001b[0m \u001b[0mfns\u001b[0m\u001b[1;33m]\u001b[0m\u001b[1;33m\u001b[0m\u001b[1;33m\u001b[0m\u001b[0m\n",
      "\u001b[1;32m<ipython-input-6-ade6143598cf>\u001b[0m in \u001b[0;36m<listcomp>\u001b[1;34m(.0)\u001b[0m\n\u001b[0;32m      2\u001b[0m \u001b[0mroot\u001b[0m \u001b[1;33m=\u001b[0m \u001b[1;34m\"C:\\\\Users\\\\eac84\\\\Desktop\\\\FLAP\\\\*\\\\\"\u001b[0m\u001b[1;33m\u001b[0m\u001b[1;33m\u001b[0m\u001b[0m\n\u001b[0;32m      3\u001b[0m \u001b[0mfns\u001b[0m \u001b[1;33m=\u001b[0m \u001b[0mglob\u001b[0m\u001b[1;33m.\u001b[0m\u001b[0mglob\u001b[0m\u001b[1;33m(\u001b[0m\u001b[1;34m\"./training/*input.tiff\"\u001b[0m\u001b[1;33m)\u001b[0m\u001b[1;33m\u001b[0m\u001b[1;33m\u001b[0m\u001b[0m\n\u001b[1;32m----> 4\u001b[1;33m \u001b[0mfns\u001b[0m \u001b[1;33m=\u001b[0m \u001b[1;33m[\u001b[0m\u001b[0mfn\u001b[0m\u001b[1;33m.\u001b[0m\u001b[0msplit\u001b[0m\u001b[1;33m(\u001b[0m\u001b[1;34m\"\\\\\"\u001b[0m\u001b[1;33m)\u001b[0m\u001b[1;33m[\u001b[0m\u001b[1;33m-\u001b[0m\u001b[1;36m1\u001b[0m\u001b[1;33m]\u001b[0m\u001b[1;33m.\u001b[0m\u001b[0msplit\u001b[0m\u001b[1;33m(\u001b[0m\u001b[1;34m\"__\"\u001b[0m\u001b[1;33m)\u001b[0m\u001b[1;33m[\u001b[0m\u001b[1;36m1\u001b[0m\u001b[1;33m]\u001b[0m\u001b[1;33m.\u001b[0m\u001b[0msplit\u001b[0m\u001b[1;33m(\u001b[0m\u001b[1;34m\"_f\"\u001b[0m\u001b[1;33m)\u001b[0m\u001b[1;33m[\u001b[0m\u001b[1;36m0\u001b[0m\u001b[1;33m]\u001b[0m \u001b[1;32mfor\u001b[0m \u001b[0mfn\u001b[0m \u001b[1;32min\u001b[0m \u001b[0mfns\u001b[0m\u001b[1;33m]\u001b[0m\u001b[1;33m\u001b[0m\u001b[1;33m\u001b[0m\u001b[0m\n\u001b[0m\u001b[0;32m      5\u001b[0m \u001b[1;33m\u001b[0m\u001b[0m\n\u001b[0;32m      6\u001b[0m \u001b[0mxvi_fns\u001b[0m \u001b[1;33m=\u001b[0m \u001b[1;33m[\u001b[0m\u001b[0mglob\u001b[0m\u001b[1;33m.\u001b[0m\u001b[0mglob\u001b[0m\u001b[1;33m(\u001b[0m\u001b[0mroot\u001b[0m\u001b[1;33m+\u001b[0m\u001b[0mfn\u001b[0m\u001b[1;33m+\u001b[0m\u001b[1;34m\".xvi\"\u001b[0m\u001b[1;33m)\u001b[0m \u001b[1;32mfor\u001b[0m \u001b[0mfn\u001b[0m \u001b[1;32min\u001b[0m \u001b[0mfns\u001b[0m\u001b[1;33m]\u001b[0m\u001b[1;33m\u001b[0m\u001b[1;33m\u001b[0m\u001b[0m\n",
      "\u001b[1;31mIndexError\u001b[0m: list index out of range"
     ]
    }
   ],
   "source": [
    "## Selecting frames\n",
    "root = \"C:\\\\Users\\\\eac84\\\\Desktop\\\\FLAP\\\\*\\\\\"\n",
    "fns = glob.glob(\"./training/*input.tiff\")\n",
    "fns = [fn.split(\"\\\\\")[-1].split(\"__\")[1].split(\"_f\")[0] for fn in fns]\n",
    "\n",
    "xvi_fns = [glob.glob(root+fn+\".xvi\") for fn in fns]\n",
    "xvi_fns = list({fn for fns in xvi_fns for fn in fns})"
   ]
  }
 ],
 "metadata": {
  "kernelspec": {
   "display_name": "Python 3",
   "language": "python",
   "name": "python3"
  },
  "language_info": {
   "codemirror_mode": {
    "name": "ipython",
    "version": 3
   },
   "file_extension": ".py",
   "mimetype": "text/x-python",
   "name": "python",
   "nbconvert_exporter": "python",
   "pygments_lexer": "ipython3",
   "version": "3.8.8"
  }
 },
 "nbformat": 4,
 "nbformat_minor": 4
}
