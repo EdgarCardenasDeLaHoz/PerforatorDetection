{
 "cells": [
  {
   "cell_type": "code",
   "execution_count": null,
   "metadata": {},
   "outputs": [],
   "source": [
    "%load_ext line_profiler\n",
    "%load_ext autoreload\n",
    "%autoreload 2\n",
    "%matplotlib qt"
   ]
  },
  {
   "cell_type": "code",
   "execution_count": null,
   "metadata": {},
   "outputs": [],
   "source": [
    "import os\n",
    "#os.chdir(\"..\\\\thermography_python\\\\\")\n",
    "os.chdir(\"..\")\n",
    "print(os.getcwd())"
   ]
  },
  {
   "cell_type": "code",
   "execution_count": null,
   "metadata": {},
   "outputs": [],
   "source": []
  },
  {
   "cell_type": "code",
   "execution_count": null,
   "metadata": {},
   "outputs": [],
   "source": [
    "import glob\n",
    "import matplotlib.pyplot as plt\n",
    "#from reg_tools import *"
   ]
  },
  {
   "cell_type": "code",
   "execution_count": null,
   "metadata": {},
   "outputs": [],
   "source": [
    "from im_proc import *\n",
    "from Segment import *\n",
    "from registration import *\n",
    "from read_data import *"
   ]
  },
  {
   "cell_type": "code",
   "execution_count": null,
   "metadata": {},
   "outputs": [],
   "source": [
    "from retna import *\n",
    "from retna.data_loader import *\n",
    "from retna.view import *"
   ]
  },
  {
   "cell_type": "code",
   "execution_count": null,
   "metadata": {},
   "outputs": [],
   "source": [
    "in_channel = 1\n",
    "out_channel = 4\n",
    "h_chans = [16,16,16,16,16]\n",
    "model = Retna_V1(in_channel, out_channel, h_chans)\n"
   ]
  },
  {
   "cell_type": "markdown",
   "metadata": {},
   "source": [
    "## Specify the data directory"
   ]
  },
  {
   "cell_type": "markdown",
   "metadata": {},
   "source": [
    "## Run registration"
   ]
  },
  {
   "cell_type": "code",
   "execution_count": null,
   "metadata": {},
   "outputs": [],
   "source": [
    "root = \"//143.129.24.212/ProjectData/3_phd/Edgar/DIEP FLAP/\"\n",
    "fns = glob.glob(root + \"*.H5\")"
   ]
  },
  {
   "cell_type": "code",
   "execution_count": null,
   "metadata": {},
   "outputs": [],
   "source": [
    "#root = \"C:\\\\Users\\\\eac84\\\\Desktop\\\\IRT Surgery\"\n",
    "root = \"T:/ProjectData/DIEP FLAP/\"\n",
    "xvi_fns = glob.glob( root + \"*\")\n",
    "len(xvi_fns)"
   ]
  },
  {
   "cell_type": "code",
   "execution_count": null,
   "metadata": {},
   "outputs": [],
   "source": [
    "for fn in fns:\n",
    "    print(fn)    \n",
    "    data = ThermoData(fn)\n",
    "    output = register_datset(data)\n",
    "    save_output(root,fn,output)      "
   ]
  },
  {
   "cell_type": "code",
   "execution_count": null,
   "metadata": {
    "scrolled": true
   },
   "outputs": [],
   "source": [
    "for fn in filenames:\n",
    "    print(fn)    \n",
    "    data = read_thermo(fn)\n",
    "    output = reg_and_plot(data)\n",
    "    save_output(root,fn,output_data)     "
   ]
  },
  {
   "cell_type": "markdown",
   "metadata": {},
   "source": [
    "## Get Select Regions and Mask"
   ]
  },
  {
   "cell_type": "code",
   "execution_count": null,
   "metadata": {},
   "outputs": [],
   "source": [
    "data = read_thermo(fn)\n",
    "img = data[0]"
   ]
  },
  {
   "cell_type": "code",
   "execution_count": null,
   "metadata": {},
   "outputs": [],
   "source": [
    "data = read_thermo(fn)\n",
    "img = data[0]"
   ]
  },
  {
   "cell_type": "code",
   "execution_count": null,
   "metadata": {},
   "outputs": [],
   "source": [
    "fig, ax = plt.subplots(1, 2, figsize=(10, 10), sharex=True, sharey=True)\n",
    "segments = get_regions(img, method=2)\n",
    "ax[0].imshow(img)\n",
    "ax[1].imshow(segments)"
   ]
  },
  {
   "cell_type": "code",
   "execution_count": null,
   "metadata": {},
   "outputs": [],
   "source": [
    "import numpy as np \n",
    "data = np.array([100,200,300]).astype(np.uint16)\n",
    "np.issubdtype(data.dtype,np.uint16)"
   ]
  },
  {
   "cell_type": "code",
   "execution_count": null,
   "metadata": {},
   "outputs": [],
   "source": [
    "fn = filenames[3]\n",
    "fn"
   ]
  },
  {
   "cell_type": "code",
   "execution_count": null,
   "metadata": {},
   "outputs": [],
   "source": [
    "fn = filenames[2]\n",
    "data = read_thermo(fn)\n",
    "\n",
    "mask = plt.imread(\"../ML Training/Flap_label.jpg\")[:,:,0]>100\n",
    "\n",
    "frames = vis_3_panel(data, mask=mask)\n",
    "render_frames(\"flap.mp4\", frames )"
   ]
  },
  {
   "cell_type": "markdown",
   "metadata": {},
   "source": [
    "## Measurement and Figure Making"
   ]
  },
  {
   "cell_type": "code",
   "execution_count": null,
   "metadata": {},
   "outputs": [],
   "source": [
    "fn = xvi_fns[24]"
   ]
  },
  {
   "cell_type": "code",
   "execution_count": null,
   "metadata": {},
   "outputs": [],
   "source": [
    "output = register_datset(im)"
   ]
  },
  {
   "cell_type": "code",
   "execution_count": null,
   "metadata": {},
   "outputs": [],
   "source": [
    "plt.close(\"all\")\n",
    "## 11,18, 24\n",
    "\n",
    "for n,fn in enumerate(fns):\n",
    "    \n",
    "    if \"pre\" not in fn: continue\n",
    "    print(\".\", end=\"\") \n",
    "    im,meta= read_H5(fn, t=5)\n",
    "    #if len(im)<30: continue\n",
    "    if im is None: continue\n",
    "    print(n)\n",
    "    plt.figure()\n",
    "    plt.imshow(im)\n",
    "    plt.title(n)"
   ]
  },
  {
   "cell_type": "code",
   "execution_count": null,
   "metadata": {},
   "outputs": [],
   "source": [
    "\n",
    "im,_= read_H5(fns[24])\n"
   ]
  },
  {
   "cell_type": "code",
   "execution_count": null,
   "metadata": {},
   "outputs": [],
   "source": [
    "\n",
    "im = im[5:-8]\n",
    "x,y = 270,140\n",
    "cmap = \"gray\"\n",
    "draw_crosssection(im,x=x,y=y,t=3,cmap=cmap)"
   ]
  },
  {
   "cell_type": "code",
   "execution_count": null,
   "metadata": {},
   "outputs": [],
   "source": [
    "plt.close(\"all\")\n",
    "classes = label_preop(im,tx=-20)\n",
    "draw_labels(im, classes)\n",
    "m = measure_preop(im,classes)"
   ]
  },
  {
   "cell_type": "code",
   "execution_count": null,
   "metadata": {},
   "outputs": [],
   "source": [
    "all_classes = []\n",
    "for t in range(10,len(im),5):\n",
    "\n",
    "  classes = label_preop(im,tx=t)\n",
    "  all_classes.append(classes)"
   ]
  },
  {
   "cell_type": "code",
   "execution_count": null,
   "metadata": {},
   "outputs": [],
   "source": [
    "#root = \"C:/Users/eac84/Desktop/Test_Flap_data/\"\n",
    "#fns = glob.glob(root +  \"2*.H5\")\n",
    "im,meta= read_data.read_H5(fns[20])"
   ]
  },
  {
   "cell_type": "code",
   "execution_count": null,
   "metadata": {},
   "outputs": [],
   "source": [
    "tx = 20\n",
    "classes = label_preop(im,tx=tx)\n",
    "draw = draw_labels_ontop(im, classes, tx=tx, a=0.2)\n",
    "plt.figure()\n",
    "plt.imshow(draw)"
   ]
  },
  {
   "cell_type": "code",
   "execution_count": 308,
   "metadata": {},
   "outputs": [],
   "source": [
    "im2 = 1.* im - 30\n",
    "im2 = im2 / 180.0\n",
    "im2 = im2.clip(0,1)*255\n",
    "im2 = im2.astype(np.uint8)"
   ]
  },
  {
   "cell_type": "code",
   "execution_count": 310,
   "metadata": {},
   "outputs": [
    {
     "name": "stdout",
     "output_type": "stream",
     "text": [
      "........................................................................."
     ]
    }
   ],
   "source": [
    "\n",
    "\n",
    "t0 = 5\n",
    "tend = len(im)-20\n",
    "tskip = 1\n",
    "\n",
    "frames = []\n",
    "for n,t in enumerate(range(t0,tend,tskip)):\n",
    "\n",
    "  #if (t>40) & (t<45): continue\n",
    "  print(\".\", end=\"\")\n",
    "  classes = label_preop(im,tx=t)\n",
    "  draw = draw_labels_ontop(im2, classes, tx=t, a=0.2)\n",
    "  frames.append(draw)\n"
   ]
  },
  {
   "cell_type": "code",
   "execution_count": 309,
   "metadata": {},
   "outputs": [
    {
     "data": {
      "text/plain": [
       "<matplotlib.image.AxesImage at 0x1d4528411c0>"
      ]
     },
     "execution_count": 309,
     "metadata": {},
     "output_type": "execute_result"
    }
   ],
   "source": [
    "plt.imshow(np.hstack((im2[0],im2[-30])))"
   ]
  },
  {
   "cell_type": "code",
   "execution_count": null,
   "metadata": {},
   "outputs": [],
   "source": [
    "t = 50\n",
    "\n",
    "classes = label_preop(im,tx=t)\n",
    "draw = draw_labels_ontop(im, classes, tx=t, a=0.2)\n",
    "plt.imshow(draw)"
   ]
  },
  {
   "cell_type": "code",
   "execution_count": 311,
   "metadata": {},
   "outputs": [
    {
     "data": {
      "text/plain": [
       "<matplotlib.image.AxesImage at 0x1d4528a26a0>"
      ]
     },
     "execution_count": 311,
     "metadata": {},
     "output_type": "execute_result"
    }
   ],
   "source": [
    "frames = np.array(frames)\n",
    "frames2 = frames[:,40:400,20:560]\n",
    "plt.imshow(frames2[0])"
   ]
  },
  {
   "cell_type": "code",
   "execution_count": 278,
   "metadata": {},
   "outputs": [
    {
     "data": {
      "text/plain": [
       "<matplotlib.image.AxesImage at 0x1d44c902be0>"
      ]
     },
     "execution_count": 278,
     "metadata": {},
     "output_type": "execute_result"
    }
   ],
   "source": []
  },
  {
   "cell_type": "code",
   "execution_count": 287,
   "metadata": {},
   "outputs": [],
   "source": [
    "render_frames(\"./frames.mp4\",frames2)"
   ]
  },
  {
   "cell_type": "code",
   "execution_count": null,
   "metadata": {},
   "outputs": [],
   "source": [
    "def draw_labels_ontop(im, classes, tx=-1, ax=None, a=0.3):\n",
    "\n",
    "    colors = [[0,0,0],[0,0,1],[0,1,0],[1,0,0],[0,1,1]]\n",
    "    colors = np.array(colors)*255\n",
    "\n",
    "    imx = im[(tx-3):(tx)].mean(axis=0)  \n",
    "    imx = np.tile(imx[...,None],[1,1,3])\n",
    "    \n",
    "    #d_labels = labels/np.max(labels) * 255\n",
    "    idx = classes[0]*0\n",
    "    for n,cls in enumerate(classes):\n",
    "\n",
    "        cls = bi_dilate(cls,1,1)\n",
    "        if n==0: cls = cls & ~bi_erode(cls,5,0.5)\n",
    "        if n==2: cls = bi_dilate(cls,2,1) & ~bi_erode(cls,1,0.5)\n",
    "\n",
    "        idx[cls]=n+1\n",
    "\n",
    "    L_rgb = colors[idx]\n",
    "\n",
    "    draw = merge_layers(imx, L_rgb, a=0.5)\n",
    "    L_rgb = draw_labels_annotations(classes)\n",
    "    draw = merge_layers(imx, L_rgb, a=1)\n",
    "\n",
    "    return draw\n",
    "\n",
    "\n",
    "def draw_labels_annotations(classes):\n",
    "\n",
    "    draw = classes[0]*0\n",
    "    draw = np.tile(draw[...,None],[1,1,3])\n",
    "\n",
    "    draw = draw_cross_navel(classes,draw)\n",
    "    draw = draw_box_pref(classes, draw)\n",
    "\n",
    "    return draw\n",
    "\n",
    "def draw_cross_navel(classes,draw):\n",
    "\n",
    "    bx = classes[1]\n",
    "    if not np.any(bx): return draw\n",
    "    x_c, y_c = np.argwhere(bx).sum(0)/bx.sum()\n",
    "    x_c, y_c = int(x_c), int(y_c)\n",
    "\n",
    "    draw[(x_c):(x_c+1),:] = [0,120,0]\n",
    "    draw[:,(y_c):(y_c+1)] = [0,120,0]\n",
    "\n",
    "    return draw\n",
    "\n",
    "def draw_box_pref(classes, draw):\n",
    "\n",
    "    bx = classes[2]\n",
    "    bx = get_largest(bx)\n",
    "    if not np.any(bx): return draw\n",
    "    x, y = np.argwhere(bx).T\n",
    "    x_min, x_max = int(x.min()), int(x.max())\n",
    "    y_min, y_max = int(y.min()), int(y.max())\n",
    "\n",
    "    draw[(x_min):(x_max),(y_min-1):(y_min+1)] = [255,0,0]\n",
    "    draw[(x_min):(x_max),(y_max-1):(y_max+1)] = [255,0,0]\n",
    "\n",
    "    draw[(x_min-1):(x_min+1),(y_min):(y_max)] = [255,0,0]\n",
    "    draw[(x_max-1):(x_max+1),(y_min):(y_max)] = [255,0,0]\n",
    "\n",
    "    return draw\n",
    "\n",
    "\n",
    "\n",
    "def merge_layers(imx, L_rgb, a=0.3):\n",
    "\n",
    "    bx = (L_rgb>0).any(axis=2)\n",
    "\n",
    "    imx[bx] = (1-a)*imx[bx] + a*L_rgb[bx]\n",
    "\n",
    "    draw = imx.astype(np.uint8)\n",
    "\n",
    "    return draw\n",
    "\n",
    "\n"
   ]
  },
  {
   "cell_type": "code",
   "execution_count": null,
   "metadata": {},
   "outputs": [],
   "source": [
    "bx = classes[1]\n",
    "np.argwhere(bx).sum(0)/bx.sum()"
   ]
  },
  {
   "cell_type": "code",
   "execution_count": null,
   "metadata": {},
   "outputs": [],
   "source": [
    "plt.imshow(draw_labels_annotations(classes))"
   ]
  },
  {
   "cell_type": "code",
   "execution_count": null,
   "metadata": {},
   "outputs": [],
   "source": [
    "plt.imshow(classes[1])"
   ]
  },
  {
   "cell_type": "code",
   "execution_count": null,
   "metadata": {},
   "outputs": [],
   "source": [
    "bx = classes[2]\n",
    "bx = get_largest(bx)\n",
    "x,y = np.argwhere(bx).T\n",
    "x,y"
   ]
  },
  {
   "cell_type": "code",
   "execution_count": null,
   "metadata": {},
   "outputs": [],
   "source": [
    "plt.imshow(bx)"
   ]
  },
  {
   "cell_type": "code",
   "execution_count": null,
   "metadata": {},
   "outputs": [],
   "source": [
    "root = \"../\"\n",
    "fns = glob.glob(root +  \"2*.H5\")\n",
    "\n",
    "plt.close(\"all\")\n",
    "measurements = []\n",
    "for n, fn in enumerate(fns):\n",
    "    \n",
    "    #with h5py.File(fn, 'r+') as fh:\n",
    "    #    if \"labels\" in fh.keys():  continue\n",
    "            \n",
    "    ###############\n",
    "    \n",
    "    print(n, fn.split(\"\\\\\")[-1], end =\"\\t \\t \")      \n",
    "    im,_= read_H5(fn)\n",
    "    #if im.min()>100: continue\n",
    "    ##############\n",
    "    if len(im)<10: t0=1\n",
    "    t0 = 10\n",
    "    print(t0, end=\"\\t\")\n",
    "    ###############\n",
    "    im = im[t0:]\n",
    "    \n",
    "    ############################\n",
    "    classes =None\n",
    "    if 0:\n",
    "        with h5py.File(fn, 'r+') as fh:\n",
    "            if \"labels\" in fh.keys():  \n",
    "                classes = fh[\"labels\"][:]\n",
    "            \n",
    "        classes = np.squeeze(classes)\n",
    "    ##################################\n",
    "    try:\n",
    "        if classes is None:     classes = label_preop(im,tx=-5)\n",
    "        classes = classes[None,:]\n",
    "        \n",
    "        with h5py.File(fn, 'r+') as fh:\n",
    "            if \"labels\" in fh.keys():  del fh[\"labels\"]\n",
    "            fh.create_dataset(\"labels\", data=classes, compression=\"lzf\" )        \n",
    "    except:\n",
    "        print(\"Error with\", fn)\n",
    "        \n",
    "    print(\"\")\n",
    "\n",
    "    \n",
    "    #m = measure_preop(im,classes)\n",
    "    #measurements.append(m)"
   ]
  },
  {
   "cell_type": "code",
   "execution_count": null,
   "metadata": {},
   "outputs": [],
   "source": [
    "im,_= read_H5(fns[0])"
   ]
  },
  {
   "cell_type": "code",
   "execution_count": null,
   "metadata": {},
   "outputs": [],
   "source": [
    "im = im/(2**16)*(2**8)"
   ]
  },
  {
   "cell_type": "code",
   "execution_count": null,
   "metadata": {},
   "outputs": [],
   "source": [
    "    fig,axs = plt.subplots(2,2)\n",
    "    plt.subplots_adjust(left=0.02, bottom=0.02, \n",
    "            right=0.98, top=0.98, wspace = 0.05, hspace=0.05)\n",
    "    axs = axs.ravel()\n",
    "    [ax.grid(True) for ax in axs]\n",
    "    #axs = [plt.subplot2grid((1,2), (0,0)), axs[0,1],axs[1,1]]\n",
    "    \n",
    "    axs[0].imshow(im.mean(axis=0),cmap=\"gray\")\n",
    "    draw_labels(im, classes, axs[1])\n",
    "    \n",
    "    ax = axs[2]\n",
    "    ax.plot(im.min(axis=(1,2)))\n",
    "    ax.plot(im.mean(axis=(1,2)))\n",
    "    ax.plot(np.diff(1.*im,axis=0).mean(axis=(1,2)))\n",
    "    ax.plot([t0,t0],[10,200])"
   ]
  },
  {
   "cell_type": "code",
   "execution_count": null,
   "metadata": {},
   "outputs": [],
   "source": [
    "classes = label_preop(im, tx=20)\n",
    "draw_labels(im, classes, tx=10)"
   ]
  },
  {
   "cell_type": "code",
   "execution_count": null,
   "metadata": {},
   "outputs": [],
   "source": [
    "Loss = []\n",
    "\n",
    "tx = -20\n",
    "Lx = label_preop(im, tx=tx)\n",
    "\n",
    "T = range(5,len(im)+tx,4)\n",
    "X = np.array(T) / 15\n",
    "\n",
    "for tx in T:\n",
    "    \n",
    "    L_ = label_preop(im, tx=tx)\n",
    "    DL = 1-(dice_loss(L_, Lx, smooth = .0001)[0])\n",
    "    Loss.append(DL)\n",
    "    \n",
    "Loss = np.array(Loss)\n",
    "\n",
    "plt.close(\"all\")\n",
    "plt.plot(X, Loss, \"-o\")\n",
    "plt.title(\"Dice Score of Segmentation over time\")\n",
    "plt.xlabel(\"Minutes\")\n",
    "plt.grid(True)\n",
    "plt.xlim(plt.xlim())\n",
    "plt.plot(plt.xlim(),[0,0],\"k\")\n",
    "plt.plot(plt.xlim(),[1,1],\"k\")\n",
    "plt.legend([\"Abdomen\", \"Umbilicus\", \"Preforators\",\"Artifacts\"])"
   ]
  },
  {
   "cell_type": "code",
   "execution_count": null,
   "metadata": {},
   "outputs": [],
   "source": [
    "M = []\n",
    "S = []\n",
    "\n",
    "tx = -15\n",
    "Lx = label_preop(im, tx=tx)\n",
    "\n",
    "T = range(0,len(im)+tx,2)\n",
    "\n",
    "for tx in T:\n",
    "    \n",
    "    #Lx = label_preop(im, tx=tx)\n",
    "\n",
    "    means = [im[tx][m].mean() for m in Lx]\n",
    "    devs = [im[tx][m].std() for m in Lx]\n",
    "    M.append(means)\n",
    "    S.append(devs)\n",
    "    "
   ]
  },
  {
   "cell_type": "code",
   "execution_count": null,
   "metadata": {},
   "outputs": [],
   "source": [
    "Y = np.array(M) / 4.\n",
    "E = np.array(S) / 4. / 2.\n",
    "\n",
    "N = np.array([L.sum() for L in Lx])\n",
    "\n",
    "X = np.array(T) / 15\n",
    "\n",
    "Yp = Y + E\n",
    "Ym = Y - E\n",
    "\n",
    "plt.close(\"all\")\n",
    "plt.plot(X,Y, \"-o\")\n",
    "plt.title(\"Heating Profile by Region\")\n",
    "plt.xlabel(\"Minutes\")\n",
    "plt.ylabel(\"Temperature (Celcius)\")\n",
    "plt.grid(True)\n",
    "plt.xlim(plt.xlim())\n",
    "\n",
    "#for n in range(Yp.shape[1]): plt.fill_between(X, Yp[:,n], Ym[:,n], alpha=0.1)\n",
    "\n",
    "plt.legend([\"Abdomen\", \"Umbilicus\", \"Preforators\",\"Artifacts\"])"
   ]
  },
  {
   "cell_type": "code",
   "execution_count": null,
   "metadata": {},
   "outputs": [],
   "source": []
  },
  {
   "cell_type": "code",
   "execution_count": null,
   "metadata": {},
   "outputs": [],
   "source": [
    "Ls_T = []\n",
    "tx = -10\n",
    "Lx = label_preop(im, tx=tx)\n",
    "for tx in np.linspace(10,len(im)+tx,10).astype(int):\n",
    "\n",
    "    print(tx)\n",
    "    L_ = label_preop(im, tx=tx)\n",
    "    DL = 1-(dice_loss(L_, Lx, smooth = .001)[0])\n",
    "    L_ = (L_ * np.array([1,2,3,4])[None,:,None,None]).mean(axis=1)[0]\n",
    "    draw = np.vstack([im[tx]/255, L_])\n",
    "\n",
    "    Ls_T.append(draw)\n",
    "\n",
    "#Ls_T = np.array(Ls_T) \n",
    "plt.imshow(np.hstack(Ls_T),cmap=\"jet\")"
   ]
  },
  {
   "cell_type": "code",
   "execution_count": null,
   "metadata": {},
   "outputs": [],
   "source": []
  },
  {
   "cell_type": "code",
   "execution_count": null,
   "metadata": {},
   "outputs": [],
   "source": [
    "np.linspace(5,len(im)-tx,5).astype(int)"
   ]
  },
  {
   "cell_type": "code",
   "execution_count": null,
   "metadata": {},
   "outputs": [],
   "source": [
    "    L_ = label_preop(im, tx=tx)\n",
    "    L_ = (L_ * np.array([1,2,3,4])[None,:,None,None]).mean(axis=1)"
   ]
  },
  {
   "cell_type": "code",
   "execution_count": null,
   "metadata": {},
   "outputs": [],
   "source": [
    "L_ = label_preop(im, tx=-1)\n",
    "dL = label2rgb(L_[2])\n",
    "L2 = label_nearest(L_[2], radius=np.inf, blockSeeds = True)\n",
    "dL2 = label2rgb(L2)\n",
    "dL[L_[0] & ~L_[2]] = .5*dL2[L_[0] & ~L_[2]]\n",
    "dL[L_[1]] = 0 \n",
    "#dL[L_[0] & ~L_[2]] = 100\n",
    "plt.close(\"all\")\n",
    "plt.imshow(dL)"
   ]
  },
  {
   "cell_type": "code",
   "execution_count": null,
   "metadata": {},
   "outputs": [],
   "source": [
    "im,_= read_data.read_H5(filenames[5])\n",
    "im = im[1:,:450,:550]"
   ]
  },
  {
   "cell_type": "code",
   "execution_count": null,
   "metadata": {},
   "outputs": [],
   "source": [
    "plt.imshow(im[-3]*1.)"
   ]
  },
  {
   "cell_type": "code",
   "execution_count": null,
   "metadata": {},
   "outputs": [],
   "source": [
    "render_frames(\"test.mp4\", im_fr , fps=10)"
   ]
  },
  {
   "cell_type": "code",
   "execution_count": null,
   "metadata": {},
   "outputs": [],
   "source": [
    "import scipy\n",
    "def timesample(im):\n",
    "    fig,axs = plt.subplots(1,3)\n",
    "    plt.subplots_adjust(left=0.02, bottom=0.04, \n",
    "            right=0.98, top=0.9, wspace = 0.05, hspace=0)\n",
    "    [ax.grid(True) for ax in axs]\n",
    "    #axs = [plt.subplot2grid((1,2), (0,0)), axs[0,1],axs[1,1]]\n",
    "    t = -5\n",
    "\n",
    "    axs[0].imshow(im[10],cmap=\"gray\")\n",
    "    #x1,x2,y1,y2 = 120,600,150,450\n",
    "    x1,x2,y1,y2 = 80,550,80,350\n",
    "    xs,ys = 80,60\n",
    "    xrange = np.arange(x1,x2,xs)\n",
    "    yrange = np.arange(y1,y2,ys)\n",
    "\n",
    "    xrange = np.linspace(200,400,5).astype(int)\n",
    "    yrange = np.linspace(200,350,5).astype(int)\n",
    "\n",
    "    for x in xrange:\n",
    "        for y in yrange:\n",
    "\n",
    "            I = im[t,y,x]\n",
    "            clr = np.array([I,0,255-I])/255\n",
    "            axs[0].plot(x,y,\"o\", color = clr, ms=10)\n",
    "            sig = im[:,y,x]\n",
    "            axs[1].plot(sig, color= clr )\n",
    "            sig = scipy.signal.medfilt(sig,3) \n",
    "            axs[2].plot(sig, color= clr )\n",
    "            \n",
    "    axs[1].set_ylim(0,255)\n",
    "    axs[2].set_ylim(0,255)\n",
    "\n",
    "    "
   ]
  },
  {
   "cell_type": "code",
   "execution_count": null,
   "metadata": {},
   "outputs": [],
   "source": [
    "def draw_labels(im, classes, ax=None):\n",
    "    dPred = 1.*im[-3] - im[0]\n",
    "    bFlap,bMiss,bNav,bPref = classes \n",
    "    labels = np.sum([bFlap,2*bMiss,3*bNav,4*bPref],axis=0)\n",
    "    d_labels = labels/np.max(labels) * 255\n",
    "    draw1 = np.hstack((im[0],im[-3],))\n",
    "    draw2 = np.hstack((dPred+125,d_labels)) \n",
    "    draw = np.vstack((draw1,draw2))\n",
    "\n",
    "    ax.imshow(draw, cmap=\"jet\")\n",
    "    ax.axis(\"off\")  "
   ]
  },
  {
   "cell_type": "code",
   "execution_count": null,
   "metadata": {},
   "outputs": [],
   "source": [
    "## Annotate using NAPARI"
   ]
  },
  {
   "cell_type": "code",
   "execution_count": null,
   "metadata": {},
   "outputs": [],
   "source": [
    "import napari\n",
    "fn = fns[17]\n",
    "im_data,_ = read_data.read_H5(fn)\n",
    "im_names = [\"thermography\"]\n",
    "maps = [\"gray\"]\n",
    "viewer = napari.view_image(im_data) \n",
    "\n",
    "v = napari.current_viewer()"
   ]
  },
  {
   "cell_type": "code",
   "execution_count": null,
   "metadata": {},
   "outputs": [],
   "source": [
    "with h5py.File(fn, 'r+') as fh:\n",
    "    if \"labels\" in fh.keys():  \n",
    "        labels = fh[\"labels\"][:]"
   ]
  },
  {
   "cell_type": "code",
   "execution_count": null,
   "metadata": {},
   "outputs": [],
   "source": [
    "labels = np.dot(labels.transpose(0,2,3,1),[1,2,3,4])"
   ]
  },
  {
   "cell_type": "code",
   "execution_count": null,
   "metadata": {},
   "outputs": [],
   "source": [
    "label_names = [\"flap\",\"1\",\"2\",\"3\"]\n",
    "c = 0\n",
    "v.add_labels(labels[None,:], name=label_names[c])"
   ]
  },
  {
   "cell_type": "code",
   "execution_count": null,
   "metadata": {},
   "outputs": [],
   "source": [
    "for c in range():\n",
    "    v.add_labels(labels[None,:], name=label_names[c])\n",
    "    #v.add_labels(labels[:,c], name=label_names[c])"
   ]
  },
  {
   "cell_type": "code",
   "execution_count": null,
   "metadata": {},
   "outputs": [],
   "source": [
    "v = napari.current_viewer()"
   ]
  },
  {
   "cell_type": "code",
   "execution_count": null,
   "metadata": {},
   "outputs": [],
   "source": [
    "np.tile(labels,[len(im_data),1,1,1]).shape"
   ]
  },
  {
   "cell_type": "code",
   "execution_count": null,
   "metadata": {},
   "outputs": [],
   "source": [
    "root = \"C:/Users/eac84/Desktop/Test_Flap_data/\"\n",
    "fns = glob.glob(root +  \"2*.H5\")"
   ]
  },
  {
   "cell_type": "code",
   "execution_count": null,
   "metadata": {},
   "outputs": [],
   "source": [
    "napari.run()"
   ]
  },
  {
   "cell_type": "code",
   "execution_count": null,
   "metadata": {},
   "outputs": [],
   "source": [
    "labels.shape"
   ]
  },
  {
   "cell_type": "code",
   "execution_count": null,
   "metadata": {},
   "outputs": [],
   "source": [
    "def dice_loss(pred, target, smooth = .0001):\n",
    "\n",
    "    if pred.ndim == 3: pred = pred[None,:]\n",
    "    if target.ndim == 3: target = target[None,:]\n",
    "\n",
    "    if pred.shape[1] != target.shape[1]:\n",
    "        print(\"loss warning - Shapes are different sizes\",\n",
    "                pred.shape[1],target.shape[1])\n",
    "\n",
    "    intersection = 2*(pred * target).mean(axis=(2,3))\n",
    "    combination =  (pred**2 + target**2).mean(axis=(2,3))\n",
    "    dsc = (intersection + smooth) / (combination+smooth) \n",
    "    dsc = (1 - dsc)\n",
    "    return dsc"
   ]
  },
  {
   "cell_type": "code",
   "execution_count": null,
   "metadata": {},
   "outputs": [],
   "source": []
  }
 ],
 "metadata": {
  "kernelspec": {
   "display_name": "base",
   "language": "python",
   "name": "python3"
  },
  "language_info": {
   "codemirror_mode": {
    "name": "ipython",
    "version": 3
   },
   "file_extension": ".py",
   "mimetype": "text/x-python",
   "name": "python",
   "nbconvert_exporter": "python",
   "pygments_lexer": "ipython3",
   "version": "3.8.8"
  },
  "vscode": {
   "interpreter": {
    "hash": "f4e03f01e565ae8e091f8ef0a5223632206e93acad06c384aab58edb9101e423"
   }
  }
 },
 "nbformat": 4,
 "nbformat_minor": 2
}
