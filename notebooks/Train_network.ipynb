{
 "cells": [
  {
   "cell_type": "code",
   "execution_count": 1,
   "metadata": {},
   "outputs": [],
   "source": [
    "%load_ext autoreload\n",
    "%load_ext line_profiler\n",
    "%autoreload 2\n",
    "%matplotlib qt"
   ]
  },
  {
   "cell_type": "code",
   "execution_count": 2,
   "metadata": {},
   "outputs": [],
   "source": [
    "import os\n",
    "os.chdir(\"..\")"
   ]
  },
  {
   "cell_type": "code",
   "execution_count": 3,
   "metadata": {},
   "outputs": [],
   "source": [
    "\n",
    "import glob\n"
   ]
  },
  {
   "cell_type": "code",
   "execution_count": 4,
   "metadata": {},
   "outputs": [
    {
     "name": "stdout",
     "output_type": "stream",
     "text": [
      "c:\\Users\\eac84\\Universiteit Antwerpen\\Thermography - Biomedical thermography\\src\\DeipFlap\n"
     ]
    }
   ],
   "source": [
    "print(os.getcwd())"
   ]
  },
  {
   "cell_type": "markdown",
   "metadata": {},
   "source": [
    "## Find H5 files"
   ]
  },
  {
   "cell_type": "code",
   "execution_count": 4,
   "metadata": {},
   "outputs": [
    {
     "name": "stdout",
     "output_type": "stream",
     "text": [
      "0 I:/3_phd/Edgar/DIEP FLAP\\20190921_1--PRE-UZA-20-09-19.H5\n",
      "1 I:/3_phd/Edgar/DIEP FLAP\\20190921_2-INTRA-UZA-20-09-19.H5\n",
      "2 I:/3_phd/Edgar/DIEP FLAP\\20190921_3-INTRA2-UZA-20-09-19-(enkel-venae-open).H5\n",
      "3 I:/3_phd/Edgar/DIEP FLAP\\20190921_4-INTRA-UZA-20-09-19-(alles-open).H5\n",
      "4 I:/3_phd/Edgar/DIEP FLAP\\20190921_5-INTRA-UZA-20-09-19-(alles-open-+beter-zicht).H5\n",
      "5 I:/3_phd/Edgar/DIEP FLAP\\20190921_6-INTRA-UZA-20-09-19-.H5\n",
      "6 I:/3_phd/Edgar/DIEP FLAP\\20190921_na-flap-inset.H5\n",
      "7 I:/3_phd/Edgar/DIEP FLAP\\20190921_per-op-dissectie-en-beide-open.H5\n",
      "8 I:/3_phd/Edgar/DIEP FLAP\\20191120_INTRALinks.H5\n",
      "9 I:/3_phd/Edgar/DIEP FLAP\\20191120_INTRARechts.H5\n",
      "10 I:/3_phd/Edgar/DIEP FLAP\\20191120_post.H5\n",
      "11 I:/3_phd/Edgar/DIEP FLAP\\20191120_PRE.H5\n",
      "12 I:/3_phd/Edgar/DIEP FLAP\\20200117_anastomose-li-flap-op-re-borst.H5\n",
      "13 I:/3_phd/Edgar/DIEP FLAP\\20200117_anastomose-re-flap-op-li-borst.H5\n",
      "14 I:/3_phd/Edgar/DIEP FLAP\\20200117_li-flap;-perfo-lager-in-flap-dan-op-eerste-tekening.H5\n",
      "15 I:/3_phd/Edgar/DIEP FLAP\\20200117_per-op-re-flap-2-perfo-lager-dan-eerste-tekening.H5\n",
      "16 I:/3_phd/Edgar/DIEP FLAP\\20200117_post-op-ingehecht.H5\n",
      "17 I:/3_phd/Edgar/DIEP FLAP\\20200117_post-op-met-cooling.H5\n",
      "18 I:/3_phd/Edgar/DIEP FLAP\\20200117_pre-met-cooling.H5\n",
      "19 I:/3_phd/Edgar/DIEP FLAP\\20200117_pre-op.H5\n",
      "20 I:/3_phd/Edgar/DIEP FLAP\\20200121_anastomose-li-flap-op-re-borst-bloeddruk-omhoog.H5\n",
      "21 I:/3_phd/Edgar/DIEP FLAP\\20200121_anastomose-li-flap-op-re-borst.H5\n",
      "22 I:/3_phd/Edgar/DIEP FLAP\\20200121_li-borst-re-flap-na-anastomose.H5\n",
      "23 I:/3_phd/Edgar/DIEP FLAP\\20200121_li-flap-met-cooling.H5\n",
      "24 I:/3_phd/Edgar/DIEP FLAP\\20200121_pre-op-met-cooling.H5\n",
      "25 I:/3_phd/Edgar/DIEP FLAP\\20200121_pre-op-zonder-cooling.H5\n",
      "26 I:/3_phd/Edgar/DIEP FLAP\\20200121_rechter-flap-met-koeling.H5\n",
      "27 I:/3_phd/Edgar/DIEP FLAP\\20200122_anastomose-re-flap-op-li-borst.H5\n",
      "28 I:/3_phd/Edgar/DIEP FLAP\\20200122_na-flap-inset.H5\n",
      "29 I:/3_phd/Edgar/DIEP FLAP\\20200122_per-op-dissectie-en-beide-open.H5\n",
      "30 I:/3_phd/Edgar/DIEP FLAP\\20200122_pre-op-met-cooling.H5\n",
      "31 I:/3_phd/Edgar/DIEP FLAP\\20200122_pre-op-zonder-cooling.H5\n",
      "32 I:/3_phd/Edgar/DIEP FLAP\\20200122_re-flap-verbonden-li-door.H5\n",
      "33 I:/3_phd/Edgar/DIEP FLAP\\20200701_anastomose,-ingehecht.H5\n",
      "34 I:/3_phd/Edgar/DIEP FLAP\\20200701_anastomose.H5\n",
      "35 I:/3_phd/Edgar/DIEP FLAP\\20200701_intra1-re-beide-toe-en-li-open.H5\n",
      "36 I:/3_phd/Edgar/DIEP FLAP\\20200701_intra1-re-beide-toe-geklipt-en-li-open-extra-cooling.H5\n",
      "37 I:/3_phd/Edgar/DIEP FLAP\\20200701_intra1-re-beide-toe-geklipt-en-li-open.H5\n",
      "38 I:/3_phd/Edgar/DIEP FLAP\\20200701_pre-op-1.H5\n",
      "39 I:/3_phd/Edgar/DIEP FLAP\\20200701_pre-op-met-cooling.H5\n",
      "40 I:/3_phd/Edgar/DIEP FLAP\\20200701_pre-op-met-perfos.H5\n",
      "41 I:/3_phd/Edgar/DIEP FLAP\\20200702_anastomose-linker-borst.H5\n",
      "42 I:/3_phd/Edgar/DIEP FLAP\\20200702_anastomose-rechter-borst.H5\n",
      "43 I:/3_phd/Edgar/DIEP FLAP\\20200702_late-meting-op-buik-re.H5\n",
      "44 I:/3_phd/Edgar/DIEP FLAP\\20200702_li-flap-na-afklemmen.H5\n",
      "45 I:/3_phd/Edgar/DIEP FLAP\\20200702_per-op-met-klemmen-re-flap.H5\n",
      "46 I:/3_phd/Edgar/DIEP FLAP\\20200702_pre-op-met-cooling-laat.H5\n",
      "47 I:/3_phd/Edgar/DIEP FLAP\\20200702_pre-op-met-cooling.H5\n",
      "48 I:/3_phd/Edgar/DIEP FLAP\\20200702_pre-op-zonder-cooling.H5\n",
      "49 I:/3_phd/Edgar/DIEP FLAP\\20201202_anastomose-re-borst-en-li-flap.H5\n",
      "50 I:/3_phd/Edgar/DIEP FLAP\\20201202_flap-re-op-abdomen.H5\n",
      "51 I:/3_phd/Edgar/DIEP FLAP\\20201202_li-borst-laat-na-anastomose.H5\n",
      "52 I:/3_phd/Edgar/DIEP FLAP\\20201202_li-borst-re-flap-na-anastomose.H5\n",
      "53 I:/3_phd/Edgar/DIEP FLAP\\20201202_per-op-li-flap.H5\n",
      "54 I:/3_phd/Edgar/DIEP FLAP\\20201202_pre-op-met-cooling.H5\n",
      "55 I:/3_phd/Edgar/DIEP FLAP\\20201202_pre-op-zonder-cooling.H5\n",
      "56 I:/3_phd/Edgar/DIEP FLAP\\20201202_re-borst-laat-na-anastomose.H5\n",
      "57 I:/3_phd/Edgar/DIEP FLAP\\20210226_li-enkel-open-1-perforan.H5\n",
      "58 I:/3_phd/Edgar/DIEP FLAP\\20210226_postop.H5\n",
      "59 I:/3_phd/Edgar/DIEP FLAP\\20210226_pre-op-met-cooling.H5\n",
      "60 I:/3_phd/Edgar/DIEP FLAP\\20210226_pre-op-zonder-cooling.H5\n",
      "61 I:/3_phd/Edgar/DIEP FLAP\\20210226_re-enkel-1-open.H5\n"
     ]
    }
   ],
   "source": [
    "root = \"I:/3_phd/Edgar/DIEP FLAP/*.H5\"\n",
    "H5_fns = glob.glob( root )\n",
    "for i,fn in enumerate(H5_fns): print(i,fn)"
   ]
  },
  {
   "cell_type": "code",
   "execution_count": 33,
   "metadata": {},
   "outputs": [],
   "source": [
    "import h5py\n",
    "import matplotlib.pyplot as plt\n",
    "import numpy as np"
   ]
  },
  {
   "cell_type": "code",
   "execution_count": 62,
   "metadata": {},
   "outputs": [
    {
     "name": "stdout",
     "output_type": "stream",
     "text": [
      "<KeysViewHDF5 ['im_data']>\n"
     ]
    }
   ],
   "source": [
    "filename = H5_fns[11]\n",
    "\n",
    "with h5py.File(filename, 'r') as fh:\n",
    "    \n",
    "    print(fh.keys())\n",
    "    im_data = fh[\"im_data\"][:]"
   ]
  },
  {
   "cell_type": "code",
   "execution_count": 63,
   "metadata": {},
   "outputs": [
    {
     "name": "stdout",
     "output_type": "stream",
     "text": [
      "(27, 480, 640)\n"
     ]
    },
    {
     "data": {
      "text/plain": [
       "<matplotlib.image.AxesImage at 0x252d40fe820>"
      ]
     },
     "execution_count": 63,
     "metadata": {},
     "output_type": "execute_result"
    }
   ],
   "source": [
    "print(im_data.shape)\n",
    "\n",
    "plt.imshow(np.hstack(im_data[[0,20,-1]]), cmap=\"jet\")"
   ]
  },
  {
   "cell_type": "markdown",
   "metadata": {},
   "source": [
    "## Select Frames to Annotate "
   ]
  },
  {
   "cell_type": "code",
   "execution_count": 5,
   "metadata": {},
   "outputs": [
    {
     "data": {
      "text/plain": [
       "0"
      ]
     },
     "execution_count": 5,
     "metadata": {},
     "output_type": "execute_result"
    }
   ],
   "source": [
    "#root = \"C:\\\\Users\\\\eac84\\\\Desktop\\\\IRT Surgery\"\n",
    "root = \"T:/ProjectData/DIEP FLAP/\"\n",
    "root = \"I:/3_phd/Edgar/DIEP FLAP/*.H5\"\n",
    "xvi_fns = glob.glob( root + \"*\")\n",
    "len(xvi_fns)"
   ]
  },
  {
   "cell_type": "code",
   "execution_count": null,
   "metadata": {},
   "outputs": [],
   "source": [
    "import glob\n",
    "import ThemoData"
   ]
  },
  {
   "cell_type": "code",
   "execution_count": null,
   "metadata": {},
   "outputs": [],
   "source": [
    " data = ThermoData(fn)"
   ]
  },
  {
   "cell_type": "code",
   "execution_count": null,
   "metadata": {},
   "outputs": [],
   "source": [
    "plt.figure()\n",
    "plt.title(\"Q: Quit \\n S:Save Frame\\n N:Next Movie\\n\")\n",
    "plt.axis(\"off\")"
   ]
  },
  {
   "cell_type": "code",
   "execution_count": null,
   "metadata": {},
   "outputs": [],
   "source": [
    "xvi_fns = glob.glob( root + \"\\\\*\\\\*.H5\")\n",
    "for fn in xvi_fns[5:22]:\n",
    "    data = ThermoData(fn)\n",
    "    select_dataset_frames(fn, data, out_dir=\"./training\")"
   ]
  },
  {
   "cell_type": "markdown",
   "metadata": {},
   "source": [
    "## Annotate Data"
   ]
  },
  {
   "cell_type": "code",
   "execution_count": null,
   "metadata": {},
   "outputs": [],
   "source": [
    "#from thermography_python.io import *\n",
    "from Annotation.image_annotator import *\n",
    "from thermography_python.base import *\n",
    "import glob\n",
    "import matplotlib.pyplot as plt"
   ]
  },
  {
   "cell_type": "code",
   "execution_count": null,
   "metadata": {},
   "outputs": [],
   "source": [
    "root = \"./\"\n",
    "fns = glob.glob(root +  \"*.H5\")\n",
    "fns"
   ]
  },
  {
   "cell_type": "code",
   "execution_count": null,
   "metadata": {},
   "outputs": [],
   "source": [
    "\n",
    "an = Annotate(fns,exclude_labeled=False, run=False)\n",
    "an.image_dataset = \"im_data\"\n",
    "an.label_dataset = \"labels\"\n",
    "an.open_window()\n"
   ]
  },
  {
   "cell_type": "markdown",
   "metadata": {},
   "source": [
    "## Train Network"
   ]
  },
  {
   "cell_type": "code",
   "execution_count": 5,
   "metadata": {},
   "outputs": [],
   "source": [
    "import torch\n",
    "import glob as glob\n",
    "import matplotlib.pyplot as plt"
   ]
  },
  {
   "cell_type": "code",
   "execution_count": 14,
   "metadata": {},
   "outputs": [],
   "source": [
    "from retna.networks import *\n",
    "from retna.training import *\n",
    "from retna.data_loader import *\n",
    "from retna.view import *\n"
   ]
  },
  {
   "cell_type": "code",
   "execution_count": 125,
   "metadata": {},
   "outputs": [],
   "source": [
    "#model = torch.load(\".\\\\models\\\\flap_model.pt\", map_location=torch.device('cpu'))\n",
    "#model = torch.load('./models/Flap+Pref3.pt',  map_location=torch.device('cpu'))\n",
    "model2 = torch.load('./models/Flap4channel1.pt',  map_location=torch.device('cpu'))\n"
   ]
  },
  {
   "cell_type": "code",
   "execution_count": 7,
   "metadata": {},
   "outputs": [],
   "source": [
    "in_channel = 1\n",
    "out_channel = 2\n",
    "h_chans = [8,8,8,8]\n",
    "\n",
    "model = Retna_V1(in_channel, out_channel, h_chans)\n"
   ]
  },
  {
   "cell_type": "code",
   "execution_count": 8,
   "metadata": {},
   "outputs": [],
   "source": [
    "device = torch.device(\"cuda:0\" if torch.cuda.is_available() else \"cpu\")\n",
    "model = model.to(device)"
   ]
  },
  {
   "cell_type": "code",
   "execution_count": 60,
   "metadata": {},
   "outputs": [],
   "source": []
  },
  {
   "cell_type": "code",
   "execution_count": 9,
   "metadata": {},
   "outputs": [],
   "source": [
    "from im_proc import *\n",
    "from Segment import *\n",
    "from registration import *\n",
    "from read_data import *"
   ]
  },
  {
   "cell_type": "code",
   "execution_count": 61,
   "metadata": {},
   "outputs": [],
   "source": [
    "fns = np.array(fns)[[11, 18,24,39,46]][[1]]"
   ]
  },
  {
   "cell_type": "code",
   "execution_count": null,
   "metadata": {},
   "outputs": [],
   "source": []
  },
  {
   "cell_type": "code",
   "execution_count": 10,
   "metadata": {},
   "outputs": [],
   "source": [
    "def draw_labels_1(im,classes):\n",
    "\n",
    "    colors = np.array([[0,0,0],[0,0,1],[0,1,0],[1,0,0],[0,1,1]])\n",
    "    colors = np.array(colors)*255\n",
    "\n",
    "    imx = np.tile(im[...,None],[1,1,3])\n",
    "\n",
    "    idx = classes[0]*0\n",
    "    for n,cls in enumerate(classes):\n",
    "\n",
    "        cls = bi_dilate(cls,1,1)\n",
    "        if n==0: cls = cls & ~bi_erode(cls,5,0.5)\n",
    "        if n==2: cls = bi_dilate(cls,2,1) & ~bi_erode(cls,1,0.5)\n",
    "        idx[cls]=n+1\n",
    "\n",
    "    L_rgb = colors[idx]\n",
    "\n",
    "    draw = merge_layers(imx, L_rgb, a=0.5)\n",
    "\n",
    "    return draw\n",
    "\n",
    "\n",
    "\n",
    "\n",
    "def draw_labels_ontop(im, classes, tx=-1, ax=None, a=0.3):\n",
    "\n",
    "    colors = [[0,0,0],[0,0,1],[0,1,0],[1,0,0],[0,1,1]]\n",
    "    colors = np.array(colors)*255\n",
    "\n",
    "    imx = im[(tx-3):(tx)].mean(axis=0)  \n",
    "    imx = np.tile(imx[...,None],[1,1,3])\n",
    "    \n",
    "    #d_labels = labels/np.max(labels) * 255\n",
    "    idx = classes[0]*0\n",
    "    for n,cls in enumerate(classes):\n",
    "\n",
    "        cls = bi_dilate(cls,1,1)\n",
    "        if n==0: cls = cls & ~bi_erode(cls,5,0.5)\n",
    "        if n==2: cls = bi_dilate(cls,2,1) & ~bi_erode(cls,1,0.5)\n",
    "\n",
    "        idx[cls]=n+1\n",
    "\n",
    "    L_rgb = colors[idx]\n",
    "\n",
    "    draw = merge_layers(imx, L_rgb, a=0.5)\n",
    "    L_rgb = draw_labels_annotations(classes)\n",
    "    draw = merge_layers(imx, L_rgb, a=1)\n",
    "\n",
    "    return draw\n",
    "\n",
    "\n",
    "def draw_labels_annotations(classes):\n",
    "\n",
    "    draw = classes[0]*0\n",
    "    draw = np.tile(draw[...,None],[1,1,3])\n",
    "\n",
    "    draw = draw_cross_navel(classes,draw)\n",
    "    draw = draw_box_pref(classes, draw)\n",
    "\n",
    "    return draw\n",
    "\n",
    "def draw_cross_navel(classes,draw):\n",
    "\n",
    "    bx = classes[1]\n",
    "    if not np.any(bx): return draw\n",
    "    x_c, y_c = np.argwhere(bx).sum(0)/bx.sum()\n",
    "    x_c, y_c = int(x_c), int(y_c)\n",
    "\n",
    "    draw[(x_c):(x_c+1),:] = [0,120,0]\n",
    "    draw[:,(y_c):(y_c+1)] = [0,120,0]\n",
    "\n",
    "    return draw\n",
    "\n",
    "def draw_box_pref(classes, draw):\n",
    "\n",
    "    bx = classes[2]\n",
    "    bx = get_largest(bx)\n",
    "    if not np.any(bx): return draw\n",
    "    x, y = np.argwhere(bx).T\n",
    "    x_min, x_max = int(x.min()), int(x.max())\n",
    "    y_min, y_max = int(y.min()), int(y.max())\n",
    "\n",
    "    draw[(x_min):(x_max),(y_min-1):(y_min+1)] = [255,0,0]\n",
    "    draw[(x_min):(x_max),(y_max-1):(y_max+1)] = [255,0,0]\n",
    "\n",
    "    draw[(x_min-1):(x_min+1),(y_min):(y_max)] = [255,0,0]\n",
    "    draw[(x_max-1):(x_max+1),(y_min):(y_max)] = [255,0,0]\n",
    "\n",
    "    return draw\n",
    "\n",
    "\n",
    "\n",
    "def merge_layers(imx, L_rgb, a=0.3):\n",
    "\n",
    "    bx = (L_rgb>0).any(axis=2)\n",
    "\n",
    "    imx[bx] = (1-a)*imx[bx] + a*L_rgb[bx]\n",
    "\n",
    "    draw = imx.astype(np.uint8)\n",
    "\n",
    "    return draw\n",
    "\n",
    "\n"
   ]
  },
  {
   "cell_type": "code",
   "execution_count": 48,
   "metadata": {},
   "outputs": [
    {
     "name": "stdout",
     "output_type": "stream",
     "text": [
      ".\n",
      ".\n",
      ".\n",
      ".\n",
      ".\n",
      ".\n",
      ".\n",
      ".\n",
      ".\n",
      ".\n",
      ".\n",
      ".\n",
      ".\n",
      ".\n",
      ".\n",
      ".\n",
      ".\n",
      ".\n",
      ".\n",
      ".\n"
     ]
    }
   ],
   "source": [
    "root = \"//143.129.24.212/ProjectData/3_phd/Edgar/DIEP FLAP/\"\n",
    "root = \"I:/3_phd/Edgar/DIEP FLAP/PRE/*\"\n",
    "\n",
    "\n",
    "fns = glob.glob(root + \".H5\")\n",
    "\n",
    "for n, fn in enumerate(fns[:20]):\n",
    "  print(\".\")\n",
    "  with h5py.File(fn,\"r\") as fh:\n",
    "\n",
    "    t = int(len(fh[\"im_data\"])/2)\n",
    "\n",
    "    if len(fh[\"im_data\"])< 5: continue\n",
    "    \n",
    "    im = fh[\"im_data\"][t]\n",
    "    classes = fh[\"mask\"][:]\n",
    "    draw = draw_labels_1(im,classes)\n",
    "\n",
    "    plt.figure()\n",
    "    plt.imshow(draw)\n",
    "    plt.title(str(n) + \"\" + fn)"
   ]
  },
  {
   "cell_type": "code",
   "execution_count": 176,
   "metadata": {},
   "outputs": [
    {
     "data": {
      "text/plain": [
       "<matplotlib.image.AxesImage at 0x1c0d009e550>"
      ]
     },
     "execution_count": 176,
     "metadata": {},
     "output_type": "execute_result"
    }
   ],
   "source": [
    "im = imx[190][:400,:550]\n",
    "\n",
    "classes = model.segment(im,scale=0.4)\n",
    "classes[classes<0.3] = 0\n",
    "classes = classes**2\n",
    "\n",
    "draw = np.vstack((np.hstack(classes[:2]),np.hstack(classes[2:])))\n",
    "\n",
    "plt.figure()\n",
    "plt.imshow(im)\n",
    "\n",
    "plt.figure()\n",
    "plt.imshow(draw,cmap=\"jet\")"
   ]
  },
  {
   "cell_type": "code",
   "execution_count": 174,
   "metadata": {},
   "outputs": [],
   "source": [
    "plt.imsave(\"prediction.jpg\",draw)"
   ]
  },
  {
   "cell_type": "code",
   "execution_count": 135,
   "metadata": {},
   "outputs": [
    {
     "name": "stdout",
     "output_type": "stream",
     "text": [
      ".\n"
     ]
    }
   ],
   "source": [
    "root = \"//143.129.24.212/ProjectData/3_phd/Edgar/DIEP FLAP/\"\n",
    "root = \"I:/3_phd/Edgar/DIEP FLAP/PRE/*\"\n",
    "\n",
    "plt.close(\"all\")\n",
    "fns = glob.glob(root + \".H5\")\n",
    "\n",
    "for n, fn in enumerate(fns[11:12]):\n",
    "  print(\".\")\n",
    "  with h5py.File(fn,\"r\") as fh:\n",
    "\n",
    "    t = int(len(fh[\"im_data\"])/2)\n",
    "   \n",
    "    im = fh[\"im_data\"][t]\n",
    "    classes = model.segment(im,scale=0.3)>0.95\n",
    "    draw = draw_labels_1(im,classes)\n",
    "\n",
    "    plt.figure()\n",
    "    plt.imshow(draw)\n",
    "    plt.title(str(n) + \"\" + fn)"
   ]
  },
  {
   "cell_type": "code",
   "execution_count": 110,
   "metadata": {},
   "outputs": [
    {
     "data": {
      "text/plain": [
       "(480, 640)"
      ]
     },
     "execution_count": 110,
     "metadata": {},
     "output_type": "execute_result"
    }
   ],
   "source": [
    "with h5py.File(fn,\"r\") as fh:\n",
    "    imx = fh[\"im_data\"][::2]"
   ]
  },
  {
   "cell_type": "code",
   "execution_count": 119,
   "metadata": {},
   "outputs": [
    {
     "data": {
      "text/plain": [
       "<matplotlib.image.AxesImage at 0x1bf88053370>"
      ]
     },
     "execution_count": 119,
     "metadata": {},
     "output_type": "execute_result"
    }
   ],
   "source": [
    "\n",
    "\n",
    "im = imx[200]\n",
    "classes = model.segment(im,scale=0.3)>0.9\n",
    "draw = draw_labels_1(im,classes)\n",
    "plt.imshow(im)\n",
    "plt.figure()\n",
    "plt.imshow(np.vstack(classes))\n",
    "plt.figure()\n",
    "plt.imshow(draw)"
   ]
  },
  {
   "cell_type": "code",
   "execution_count": 116,
   "metadata": {},
   "outputs": [
    {
     "data": {
      "text/plain": [
       "<matplotlib.image.AxesImage at 0x1c044b629a0>"
      ]
     },
     "execution_count": 116,
     "metadata": {},
     "output_type": "execute_result"
    }
   ],
   "source": [
    "plt.imshow(model.segment(im,scale=0.3)[0])"
   ]
  },
  {
   "cell_type": "code",
   "execution_count": 120,
   "metadata": {},
   "outputs": [
    {
     "ename": "KeyboardInterrupt",
     "evalue": "",
     "output_type": "error",
     "traceback": [
      "\u001b[1;31m---------------------------------------------------------------------------\u001b[0m",
      "\u001b[1;31mKeyboardInterrupt\u001b[0m                         Traceback (most recent call last)",
      "\u001b[1;32m<ipython-input-120-34317bf10920>\u001b[0m in \u001b[0;36m<module>\u001b[1;34m\u001b[0m\n\u001b[0;32m      7\u001b[0m     \u001b[1;32mwith\u001b[0m \u001b[0mh5py\u001b[0m\u001b[1;33m.\u001b[0m\u001b[0mFile\u001b[0m\u001b[1;33m(\u001b[0m\u001b[0mfn\u001b[0m\u001b[1;33m,\u001b[0m\u001b[1;34m\"r+\"\u001b[0m\u001b[1;33m)\u001b[0m \u001b[1;32mas\u001b[0m \u001b[0mfh\u001b[0m\u001b[1;33m:\u001b[0m\u001b[1;33m\u001b[0m\u001b[1;33m\u001b[0m\u001b[0m\n\u001b[0;32m      8\u001b[0m \u001b[1;33m\u001b[0m\u001b[0m\n\u001b[1;32m----> 9\u001b[1;33m       \u001b[0mim\u001b[0m \u001b[1;33m=\u001b[0m \u001b[0mfh\u001b[0m\u001b[1;33m[\u001b[0m\u001b[1;34m\"im_data\"\u001b[0m\u001b[1;33m]\u001b[0m\u001b[1;33m[\u001b[0m\u001b[1;33m:\u001b[0m\u001b[1;33m]\u001b[0m\u001b[1;33m\u001b[0m\u001b[1;33m\u001b[0m\u001b[0m\n\u001b[0m\u001b[0;32m     10\u001b[0m \u001b[1;33m\u001b[0m\u001b[0m\n\u001b[0;32m     11\u001b[0m       \u001b[1;32mif\u001b[0m \u001b[0mlen\u001b[0m\u001b[1;33m(\u001b[0m\u001b[0mim\u001b[0m\u001b[1;33m)\u001b[0m\u001b[1;33m<\u001b[0m\u001b[1;36m50\u001b[0m\u001b[1;33m:\u001b[0m \u001b[1;32mcontinue\u001b[0m\u001b[1;33m\u001b[0m\u001b[1;33m\u001b[0m\u001b[0m\n",
      "\u001b[1;32mh5py\\_objects.pyx\u001b[0m in \u001b[0;36mh5py._objects.with_phil.wrapper\u001b[1;34m()\u001b[0m\n",
      "\u001b[1;32mh5py\\_objects.pyx\u001b[0m in \u001b[0;36mh5py._objects.with_phil.wrapper\u001b[1;34m()\u001b[0m\n",
      "\u001b[1;32mc:\\Users\\eac84\\anaconda3\\lib\\site-packages\\h5py\\_hl\\dataset.py\u001b[0m in \u001b[0;36m__getitem__\u001b[1;34m(self, args)\u001b[0m\n\u001b[0;32m    574\u001b[0m \u001b[1;33m\u001b[0m\u001b[0m\n\u001b[0;32m    575\u001b[0m         \u001b[1;31m# Patch up the output for NumPy\u001b[0m\u001b[1;33m\u001b[0m\u001b[1;33m\u001b[0m\u001b[1;33m\u001b[0m\u001b[0m\n\u001b[1;32m--> 576\u001b[1;33m         \u001b[1;32mif\u001b[0m \u001b[0mlen\u001b[0m\u001b[1;33m(\u001b[0m\u001b[0mnames\u001b[0m\u001b[1;33m)\u001b[0m \u001b[1;33m==\u001b[0m \u001b[1;36m1\u001b[0m\u001b[1;33m:\u001b[0m\u001b[1;33m\u001b[0m\u001b[1;33m\u001b[0m\u001b[0m\n\u001b[0m\u001b[0;32m    577\u001b[0m             \u001b[0marr\u001b[0m \u001b[1;33m=\u001b[0m \u001b[0marr\u001b[0m\u001b[1;33m[\u001b[0m\u001b[0mnames\u001b[0m\u001b[1;33m[\u001b[0m\u001b[1;36m0\u001b[0m\u001b[1;33m]\u001b[0m\u001b[1;33m]\u001b[0m     \u001b[1;31m# Single-field recarray convention\u001b[0m\u001b[1;33m\u001b[0m\u001b[1;33m\u001b[0m\u001b[0m\n\u001b[0;32m    578\u001b[0m         \u001b[1;32mif\u001b[0m \u001b[0marr\u001b[0m\u001b[1;33m.\u001b[0m\u001b[0mshape\u001b[0m \u001b[1;33m==\u001b[0m \u001b[1;33m(\u001b[0m\u001b[1;33m)\u001b[0m\u001b[1;33m:\u001b[0m\u001b[1;33m\u001b[0m\u001b[1;33m\u001b[0m\u001b[0m\n",
      "\u001b[1;31mKeyboardInterrupt\u001b[0m: "
     ]
    }
   ],
   "source": [
    "#root = \"//143.129.24.212/ProjectData/3_phd/Edgar/DIEP FLAP/\"\n",
    "root = \"I:/3_phd/Edgar/DIEP FLAP/PRE/\"\n",
    "fns = glob.glob(root + \"*.H5\")\n",
    "\n",
    "for fn in fns[:20]:\n",
    "\n",
    "    with h5py.File(fn,\"r+\") as fh:\n",
    "\n",
    "      im = fh[\"im_data\"][:]\n",
    "\n",
    "      if len(im)<50: continue\n",
    "\n",
    "      classes = label_preop(im[15:],tx=-100)\n",
    "      if \"mask\" in fh.keys(): del fh[\"mask\"]\n",
    "      fh[\"mask\"] = classes\n",
    "\n",
    "      draw = draw_labels_1(im,classes)\n",
    "\n",
    "      plt.figure()\n",
    "      plt.imshow(draw)\n",
    "      plt.title(str(n) + \"\" + fn)"
   ]
  },
  {
   "cell_type": "code",
   "execution_count": 80,
   "metadata": {},
   "outputs": [],
   "source": [
    "with h5py.File(fn,\"r+\") as fh:\n",
    "\n",
    "      im = fh[\"im_data\"][:]"
   ]
  },
  {
   "cell_type": "code",
   "execution_count": 93,
   "metadata": {},
   "outputs": [],
   "source": [
    "classes = label_preop(im[15:],tx=-100)\n"
   ]
  },
  {
   "cell_type": "code",
   "execution_count": 94,
   "metadata": {},
   "outputs": [
    {
     "data": {
      "text/plain": [
       "<matplotlib.image.AxesImage at 0x1bf87f835b0>"
      ]
     },
     "execution_count": 94,
     "metadata": {},
     "output_type": "execute_result"
    }
   ],
   "source": [
    "plt.imshow(np.vstack(classes))"
   ]
  },
  {
   "cell_type": "code",
   "execution_count": 101,
   "metadata": {},
   "outputs": [
    {
     "data": {
      "text/plain": [
       "18"
      ]
     },
     "execution_count": 101,
     "metadata": {},
     "output_type": "execute_result"
    }
   ],
   "source": [
    "root = \"//143.129.24.212/ProjectData/3_phd/Edgar/DIEP FLAP/\"\n",
    "fns = glob.glob(root + \"*pre*.H5\")\n",
    "len(fns)"
   ]
  },
  {
   "cell_type": "code",
   "execution_count": 100,
   "metadata": {},
   "outputs": [],
   "source": [
    "root = \"//143.129.24.212/ProjectData/3_phd/Edgar/DIEP FLAP/\"\n",
    "fns = glob.glob(root + \"/pre/*.H5\")\n",
    "\n",
    "fns = np.array(fns)[[11]]\n",
    "DataSet = H5_Handler(fns, datasets=[\"im_data\",\"mask\"], which=\"all\")\n",
    "Loader = DataLoader(DataSet)\n",
    "Loader.dataset.outsize = [100,100]\n",
    "Loader.dataset.scale_range = [.1,.8]\n",
    "Loader.dataset.rand_flip = [0.5,0]\n",
    "Loader.dataset.noise = True\n",
    "Loader.dataset.noise_range = [-0.2,0.2]\n",
    "Loader.dataset.noise_low  = -0.3\n",
    "Loader.dataset.noise_high = 0.3\n",
    "Loader.dataset.rand_noise = 0.5"
   ]
  },
  {
   "cell_type": "code",
   "execution_count": 130,
   "metadata": {},
   "outputs": [
    {
     "name": "stdout",
     "output_type": "stream",
     "text": [
      "[36]\t0.32107812\n",
      "[370]\t0.27652544\n",
      "[456]\t0.52755797\n",
      "[21]\t0.7426154\n",
      "[16]\t0.6481153\n",
      "[374]\t0.46485627\n",
      "[537]\t0.89141953\n",
      "[20]\t0.3893359\n",
      "[527]\t0.38102877\n"
     ]
    }
   ],
   "source": [
    "plt.close(\"\")\n",
    "print_mosaic(Loader,model, m=3, n=3)"
   ]
  },
  {
   "cell_type": "code",
   "execution_count": 254,
   "metadata": {},
   "outputs": [
    {
     "data": {
      "text/plain": [
       "<matplotlib.image.AxesImage at 0x23a8b796460>"
      ]
     },
     "execution_count": 254,
     "metadata": {},
     "output_type": "execute_result"
    }
   ],
   "source": [
    "plt.imshow(random_ramp((20,20)))"
   ]
  },
  {
   "cell_type": "code",
   "execution_count": 239,
   "metadata": {},
   "outputs": [],
   "source": [
    "def random_ramp(shape):\n",
    "    a,b = np.random.randint(low=-1, high = 2, size =2)\n",
    "    x = np.linspace(a,-a, shape[0])\n",
    "    y = np.linspace(b,-b, shape[1])\n",
    "\n",
    "    X, Y = np.meshgrid(x, y)\n",
    "\n",
    "    return X*Y"
   ]
  },
  {
   "cell_type": "code",
   "execution_count": 77,
   "metadata": {},
   "outputs": [],
   "source": [
    "###########################\n",
    "datasets=[\"im_data\",\"mask\"]\n",
    "Loader.dataset.channels[1] = None\n",
    "Loader.dataset.threshold = None\n",
    "Loader.dataset.outsize = [200,200]\n",
    "Loader.dataset.expand_label = True\n",
    "Loader.dataset.scale_range = [.3,.4]\n",
    "Loader.dataset.remap_label = [[1,0,0,0],\n",
    "                              [1,1,0,0],\n",
    "                              [1,0,1,0],\n",
    "                              [1,0,0,1] ]"
   ]
  },
  {
   "cell_type": "code",
   "execution_count": 90,
   "metadata": {},
   "outputs": [],
   "source": [
    "Loader.dataset.dataset_names = [\"im_data\",\"im_data\"]"
   ]
  },
  {
   "cell_type": "code",
   "execution_count": 129,
   "metadata": {},
   "outputs": [
    {
     "name": "stdout",
     "output_type": "stream",
     "text": [
      "Start Loss: 0.4946383833885193\n",
      "Epoch 51/60\t....................Loss: 0.461534\tCaching improved model\t\n",
      "Epoch 52/60\t....................Loss: 0.458164\tCaching improved model\t\n",
      "Epoch 53/60\t....................Loss: 0.430610\tCaching improved model\t\n",
      "Epoch 54/60\t....................Loss: 0.426483\tCaching improved model\t\n",
      "Epoch 55/60\t....................Loss: 0.434185\t\n",
      "Epoch 56/60\t....................Loss: 0.449166\t\n",
      "Epoch 57/60\t....................Loss: 0.455856\tlr: 0.0008\t\n",
      "Epoch 58/60\t....................Loss: 0.462011\t\n",
      "Epoch 59/60\t....................Loss: 0.480601\t\n",
      "Epoch 60/60\t....................Loss: 0.465636\tlr: 0.00064\t\n",
      "Best val loss: 0.426483\n"
     ]
    }
   ],
   "source": [
    "model.train_model(Loader, num_epochs = 50)"
   ]
  },
  {
   "cell_type": "markdown",
   "metadata": {},
   "source": [
    "## Load the Data"
   ]
  },
  {
   "cell_type": "code",
   "execution_count": 35,
   "metadata": {},
   "outputs": [],
   "source": [
    "label_fn = glob.glob(\"C:/Users/eac84/Universiteit Antwerpen/Thermography - Biomedical thermography/src/training/*_label.tiff\")\n",
    "dataSet = Image_Handler(label_fn)\n",
    "Loader = DataLoader(dataSet)\n",
    "\n",
    "Loader.dataset.remap_label = [[1,0,0,0],\n",
    "                              [1,0,1,0],\n",
    "                              ]"
   ]
  },
  {
   "cell_type": "code",
   "execution_count": 16,
   "metadata": {},
   "outputs": [
    {
     "data": {
      "text/plain": [
       "[]"
      ]
     },
     "execution_count": 16,
     "metadata": {},
     "output_type": "execute_result"
    }
   ],
   "source": []
  },
  {
   "cell_type": "code",
   "execution_count": null,
   "metadata": {},
   "outputs": [],
   "source": [
    "root = \"C:/Users/eac84/Desktop/Test_Flap_data/\"\n",
    "fns = glob.glob(root +  \"2*.H5\")\n",
    "print(fns)\n",
    "DataSet = H5_Handler(fns, datasets=[\"im_data\",\"labels\"], which=\"all\")\n",
    "Loader = DataLoader(DataSet)\n"
   ]
  },
  {
   "cell_type": "code",
   "execution_count": null,
   "metadata": {},
   "outputs": [],
   "source": []
  },
  {
   "cell_type": "code",
   "execution_count": null,
   "metadata": {},
   "outputs": [],
   "source": []
  },
  {
   "cell_type": "code",
   "execution_count": null,
   "metadata": {},
   "outputs": [],
   "source": [
    "if 0:\n",
    "    Loader.dataset.device=\"cpu\"\n",
    "    model = model.to(\"cpu\")\n",
    "else:\n",
    "    Loader.dataset.device=\"cuda:0\"\n",
    "    model = model.to(\"cuda:0\")"
   ]
  },
  {
   "cell_type": "code",
   "execution_count": null,
   "metadata": {
    "scrolled": true
   },
   "outputs": [],
   "source": [
    "in_channel = 1\n",
    "out_channel = 4\n",
    "h_chans = [16,16,16,16,16]\n",
    "model = Retna_V1(in_channel, out_channel, h_chans)"
   ]
  },
  {
   "cell_type": "code",
   "execution_count": 55,
   "metadata": {
    "scrolled": true
   },
   "outputs": [
    {
     "name": "stdout",
     "output_type": "stream",
     "text": [
      "[85]\t[45]\t[55]\t[14]\t[36]\t[41]\t[57]\t[28]\t[0]\t[96]\t[2]\t[20]\t[40]\t[16]\t[53]\t[43]\t[21]\t[68]\t[58]\t[71]\t[93]\t[79]\t[0]\t[3]\t[13]\t"
     ]
    }
   ],
   "source": []
  },
  {
   "cell_type": "code",
   "execution_count": null,
   "metadata": {},
   "outputs": [],
   "source": [
    "print_comparisons(model,Loader)"
   ]
  },
  {
   "cell_type": "code",
   "execution_count": null,
   "metadata": {
    "scrolled": true
   },
   "outputs": [],
   "source": [
    "draw_model_params(model)"
   ]
  },
  {
   "cell_type": "code",
   "execution_count": null,
   "metadata": {},
   "outputs": [],
   "source": [
    "Loader.dataset.reset_weights()"
   ]
  },
  {
   "cell_type": "code",
   "execution_count": null,
   "metadata": {},
   "outputs": [],
   "source": [
    "device = torch.device(\"cuda:0\" if torch.cuda.is_available() else \"cpu\")\n",
    "model = torch.load(\".\\\\models\\\\flap_model.pt\", map_location=torch.device('cpu'))\n",
    "model  = model.to(device)"
   ]
  },
  {
   "cell_type": "code",
   "execution_count": null,
   "metadata": {},
   "outputs": [],
   "source": [
    "#path = \"./models\"\n",
    "#if not os.path.isdir(path): os.mkdir(path)\n",
    "torch.save(model, './models/Flap4channel.pt')"
   ]
  },
  {
   "cell_type": "markdown",
   "metadata": {},
   "source": [
    "## Sandbox"
   ]
  },
  {
   "cell_type": "code",
   "execution_count": 12,
   "metadata": {},
   "outputs": [
    {
     "ename": "error",
     "evalue": "OpenCV(4.8.0) D:\\a\\opencv-python\\opencv-python\\opencv\\modules\\highgui\\src\\window.cpp:449: error: (-215:Assertion failed) !winname.empty() in function 'cv::namedWindow'\n",
     "output_type": "error",
     "traceback": [
      "\u001b[1;31m---------------------------------------------------------------------------\u001b[0m",
      "\u001b[1;31merror\u001b[0m                                     Traceback (most recent call last)",
      "\u001b[1;32m<ipython-input-12-e52144d119c8>\u001b[0m in \u001b[0;36m<module>\u001b[1;34m\u001b[0m\n\u001b[0;32m      1\u001b[0m \u001b[1;31m## Not sure how to add this to annotator\u001b[0m\u001b[1;33m\u001b[0m\u001b[1;33m\u001b[0m\u001b[1;33m\u001b[0m\u001b[0m\n\u001b[0;32m      2\u001b[0m \u001b[0mfns\u001b[0m \u001b[1;33m=\u001b[0m \u001b[0mglob\u001b[0m\u001b[1;33m.\u001b[0m\u001b[0mglob\u001b[0m\u001b[1;33m(\u001b[0m\u001b[1;34m\".\\\\training\\\\*_input.tiff\"\u001b[0m\u001b[1;33m)\u001b[0m\u001b[1;33m\u001b[0m\u001b[1;33m\u001b[0m\u001b[0m\n\u001b[1;32m----> 3\u001b[1;33m \u001b[0mcv2\u001b[0m\u001b[1;33m.\u001b[0m\u001b[0mnamedWindow\u001b[0m\u001b[1;33m(\u001b[0m\u001b[1;34m\"\"\u001b[0m\u001b[1;33m,\u001b[0m \u001b[0mcv2\u001b[0m\u001b[1;33m.\u001b[0m\u001b[0mWINDOW_NORMAL\u001b[0m\u001b[1;33m)\u001b[0m\u001b[1;33m\u001b[0m\u001b[1;33m\u001b[0m\u001b[0m\n\u001b[0m\u001b[0;32m      4\u001b[0m \u001b[0mcv2\u001b[0m\u001b[1;33m.\u001b[0m\u001b[0mresizeWindow\u001b[0m\u001b[1;33m(\u001b[0m\u001b[1;34m\"\"\u001b[0m\u001b[1;33m,\u001b[0m \u001b[1;36m1400\u001b[0m\u001b[1;33m,\u001b[0m \u001b[1;36m600\u001b[0m\u001b[1;33m)\u001b[0m\u001b[1;33m\u001b[0m\u001b[1;33m\u001b[0m\u001b[0m\n\u001b[0;32m      5\u001b[0m \u001b[1;33m\u001b[0m\u001b[0m\n",
      "\u001b[1;31merror\u001b[0m: OpenCV(4.8.0) D:\\a\\opencv-python\\opencv-python\\opencv\\modules\\highgui\\src\\window.cpp:449: error: (-215:Assertion failed) !winname.empty() in function 'cv::namedWindow'\n"
     ]
    }
   ],
   "source": [
    "\n",
    "## Not sure how to add this to annotator \n",
    "fns = glob.glob(\".\\\\training\\\\*_input.tiff\")\n",
    "cv2.namedWindow(\"\", cv2.WINDOW_NORMAL)\n",
    "cv2.resizeWindow(\"\", 1400, 600)   \n",
    "\n",
    "bad_names = []\n",
    "for fn in fns:\n",
    "    fn2 = fn.replace(\"input\",\"label\")\n",
    "    if os.path.exists(fn2):\n",
    "        im = io.imread(fn)\n",
    "        im2 = io.imread(fn2)       \n",
    "        draw = np.hstack((im,im2*100))\n",
    "        cv2.imshow(\"\",draw)   \n",
    "        \n",
    "        key = cv2.waitKeyEx(10000)\n",
    "        if key == ord('s'):                \n",
    "            print(\".\")\n",
    "        \n",
    "        if key == ord('b'):                \n",
    "            bad_names.append( fn2 )\n",
    "\n",
    "cv2.destroyAllWindows()   "
   ]
  },
  {
   "cell_type": "code",
   "execution_count": null,
   "metadata": {},
   "outputs": [],
   "source": []
  }
 ],
 "metadata": {
  "kernelspec": {
   "display_name": "base",
   "language": "python",
   "name": "python3"
  },
  "language_info": {
   "codemirror_mode": {
    "name": "ipython",
    "version": 3
   },
   "file_extension": ".py",
   "mimetype": "text/x-python",
   "name": "python",
   "nbconvert_exporter": "python",
   "pygments_lexer": "ipython3",
   "version": "3.8.8"
  },
  "vscode": {
   "interpreter": {
    "hash": "f4e03f01e565ae8e091f8ef0a5223632206e93acad06c384aab58edb9101e423"
   }
  }
 },
 "nbformat": 4,
 "nbformat_minor": 2
}
