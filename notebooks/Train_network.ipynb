{
 "cells": [
  {
   "cell_type": "code",
   "execution_count": 1,
   "metadata": {},
   "outputs": [],
   "source": [
    "%load_ext autoreload\n",
    "%load_ext line_profiler\n",
    "%autoreload 2\n",
    "%matplotlib qt"
   ]
  },
  {
   "cell_type": "code",
   "execution_count": 2,
   "metadata": {},
   "outputs": [],
   "source": [
    "import os\n",
    "os.chdir(\"..\")"
   ]
  },
  {
   "cell_type": "code",
   "execution_count": 3,
   "metadata": {},
   "outputs": [],
   "source": [
    "\n",
    "import glob\n"
   ]
  },
  {
   "cell_type": "code",
   "execution_count": 4,
   "metadata": {},
   "outputs": [
    {
     "name": "stdout",
     "output_type": "stream",
     "text": [
      "c:\\Users\\eac84\\Universiteit Antwerpen\\Thermography - Biomedical thermography\\src\\DeipFlap\n"
     ]
    }
   ],
   "source": [
    "print(os.getcwd())"
   ]
  },
  {
   "cell_type": "markdown",
   "metadata": {},
   "source": [
    "## Find H5 files"
   ]
  },
  {
   "cell_type": "code",
   "execution_count": 41,
   "metadata": {},
   "outputs": [
    {
     "name": "stdout",
     "output_type": "stream",
     "text": [
      "0 I:/3_phd/Edgar/DIEP FLAP\\20190921_1--PRE-UZA-20-09-19.H5\n",
      "1 I:/3_phd/Edgar/DIEP FLAP\\20190921_2-INTRA-UZA-20-09-19.H5\n",
      "2 I:/3_phd/Edgar/DIEP FLAP\\20190921_3-INTRA2-UZA-20-09-19-(enkel-venae-open).H5\n",
      "3 I:/3_phd/Edgar/DIEP FLAP\\20190921_4-INTRA-UZA-20-09-19-(alles-open).H5\n",
      "4 I:/3_phd/Edgar/DIEP FLAP\\20190921_5-INTRA-UZA-20-09-19-(alles-open-+beter-zicht).H5\n",
      "5 I:/3_phd/Edgar/DIEP FLAP\\20190921_6-INTRA-UZA-20-09-19-.H5\n",
      "6 I:/3_phd/Edgar/DIEP FLAP\\20190921_na-flap-inset.H5\n",
      "7 I:/3_phd/Edgar/DIEP FLAP\\20190921_per-op-dissectie-en-beide-open.H5\n",
      "8 I:/3_phd/Edgar/DIEP FLAP\\20191120_INTRALinks.H5\n",
      "9 I:/3_phd/Edgar/DIEP FLAP\\20191120_INTRARechts.H5\n",
      "10 I:/3_phd/Edgar/DIEP FLAP\\20191120_post.H5\n",
      "11 I:/3_phd/Edgar/DIEP FLAP\\20191120_PRE.H5\n",
      "12 I:/3_phd/Edgar/DIEP FLAP\\20200117_anastomose-li-flap-op-re-borst.H5\n",
      "13 I:/3_phd/Edgar/DIEP FLAP\\20200117_anastomose-re-flap-op-li-borst.H5\n",
      "14 I:/3_phd/Edgar/DIEP FLAP\\20200117_li-flap;-perfo-lager-in-flap-dan-op-eerste-tekening.H5\n",
      "15 I:/3_phd/Edgar/DIEP FLAP\\20200117_per-op-re-flap-2-perfo-lager-dan-eerste-tekening.H5\n",
      "16 I:/3_phd/Edgar/DIEP FLAP\\20200117_post-op-ingehecht.H5\n",
      "17 I:/3_phd/Edgar/DIEP FLAP\\20200117_post-op-met-cooling.H5\n",
      "18 I:/3_phd/Edgar/DIEP FLAP\\20200117_pre-met-cooling.H5\n",
      "19 I:/3_phd/Edgar/DIEP FLAP\\20200117_pre-op.H5\n",
      "20 I:/3_phd/Edgar/DIEP FLAP\\20200121_anastomose-li-flap-op-re-borst-bloeddruk-omhoog.H5\n",
      "21 I:/3_phd/Edgar/DIEP FLAP\\20200121_anastomose-li-flap-op-re-borst.H5\n",
      "22 I:/3_phd/Edgar/DIEP FLAP\\20200121_li-borst-re-flap-na-anastomose.H5\n",
      "23 I:/3_phd/Edgar/DIEP FLAP\\20200121_li-flap-met-cooling.H5\n",
      "24 I:/3_phd/Edgar/DIEP FLAP\\20200121_pre-op-met-cooling.H5\n",
      "25 I:/3_phd/Edgar/DIEP FLAP\\20200121_pre-op-zonder-cooling.H5\n",
      "26 I:/3_phd/Edgar/DIEP FLAP\\20200121_rechter-flap-met-koeling.H5\n",
      "27 I:/3_phd/Edgar/DIEP FLAP\\20200122_anastomose-re-flap-op-li-borst.H5\n",
      "28 I:/3_phd/Edgar/DIEP FLAP\\20200122_na-flap-inset.H5\n",
      "29 I:/3_phd/Edgar/DIEP FLAP\\20200122_per-op-dissectie-en-beide-open.H5\n",
      "30 I:/3_phd/Edgar/DIEP FLAP\\20200122_pre-op-met-cooling.H5\n",
      "31 I:/3_phd/Edgar/DIEP FLAP\\20200122_pre-op-zonder-cooling.H5\n",
      "32 I:/3_phd/Edgar/DIEP FLAP\\20200122_re-flap-verbonden-li-door.H5\n",
      "33 I:/3_phd/Edgar/DIEP FLAP\\20200701_anastomose,-ingehecht.H5\n",
      "34 I:/3_phd/Edgar/DIEP FLAP\\20200701_anastomose.H5\n",
      "35 I:/3_phd/Edgar/DIEP FLAP\\20200701_intra1-re-beide-toe-en-li-open.H5\n",
      "36 I:/3_phd/Edgar/DIEP FLAP\\20200701_intra1-re-beide-toe-geklipt-en-li-open-extra-cooling.H5\n",
      "37 I:/3_phd/Edgar/DIEP FLAP\\20200701_intra1-re-beide-toe-geklipt-en-li-open.H5\n",
      "38 I:/3_phd/Edgar/DIEP FLAP\\20200701_pre-op-1.H5\n",
      "39 I:/3_phd/Edgar/DIEP FLAP\\20200701_pre-op-met-cooling.H5\n",
      "40 I:/3_phd/Edgar/DIEP FLAP\\20200701_pre-op-met-perfos.H5\n",
      "41 I:/3_phd/Edgar/DIEP FLAP\\20200702_anastomose-linker-borst.H5\n",
      "42 I:/3_phd/Edgar/DIEP FLAP\\20200702_anastomose-rechter-borst.H5\n",
      "43 I:/3_phd/Edgar/DIEP FLAP\\20200702_late-meting-op-buik-re.H5\n",
      "44 I:/3_phd/Edgar/DIEP FLAP\\20200702_li-flap-na-afklemmen.H5\n",
      "45 I:/3_phd/Edgar/DIEP FLAP\\20200702_per-op-met-klemmen-re-flap.H5\n",
      "46 I:/3_phd/Edgar/DIEP FLAP\\20200702_pre-op-met-cooling-laat.H5\n",
      "47 I:/3_phd/Edgar/DIEP FLAP\\20200702_pre-op-met-cooling.H5\n",
      "48 I:/3_phd/Edgar/DIEP FLAP\\20200702_pre-op-zonder-cooling.H5\n",
      "49 I:/3_phd/Edgar/DIEP FLAP\\20201202_anastomose-re-borst-en-li-flap.H5\n",
      "50 I:/3_phd/Edgar/DIEP FLAP\\20201202_flap-re-op-abdomen.H5\n",
      "51 I:/3_phd/Edgar/DIEP FLAP\\20201202_li-borst-laat-na-anastomose.H5\n",
      "52 I:/3_phd/Edgar/DIEP FLAP\\20201202_li-borst-re-flap-na-anastomose.H5\n",
      "53 I:/3_phd/Edgar/DIEP FLAP\\20201202_per-op-li-flap.H5\n",
      "54 I:/3_phd/Edgar/DIEP FLAP\\20201202_pre-op-met-cooling.H5\n",
      "55 I:/3_phd/Edgar/DIEP FLAP\\20201202_pre-op-zonder-cooling.H5\n",
      "56 I:/3_phd/Edgar/DIEP FLAP\\20201202_re-borst-laat-na-anastomose.H5\n",
      "57 I:/3_phd/Edgar/DIEP FLAP\\20210226_li-enkel-open-1-perforan.H5\n",
      "58 I:/3_phd/Edgar/DIEP FLAP\\20210226_postop.H5\n",
      "59 I:/3_phd/Edgar/DIEP FLAP\\20210226_pre-op-met-cooling.H5\n",
      "60 I:/3_phd/Edgar/DIEP FLAP\\20210226_pre-op-zonder-cooling.H5\n",
      "61 I:/3_phd/Edgar/DIEP FLAP\\20210226_re-enkel-1-open.H5\n"
     ]
    }
   ],
   "source": [
    "root = \"I:/3_phd/Edgar/DIEP FLAP/*.H5\"\n",
    "H5_fns = glob.glob( root )\n",
    "for i,fn in enumerate(H5_fns): print(i,fn)"
   ]
  },
  {
   "cell_type": "code",
   "execution_count": 33,
   "metadata": {},
   "outputs": [],
   "source": [
    "import h5py\n",
    "import matplotlib.pyplot as plt\n",
    "import numpy as np"
   ]
  },
  {
   "cell_type": "code",
   "execution_count": 62,
   "metadata": {},
   "outputs": [
    {
     "name": "stdout",
     "output_type": "stream",
     "text": [
      "<KeysViewHDF5 ['im_data']>\n"
     ]
    }
   ],
   "source": [
    "filename = H5_fns[11]\n",
    "\n",
    "with h5py.File(filename, 'r') as fh:\n",
    "    \n",
    "    print(fh.keys())\n",
    "    im_data = fh[\"im_data\"][:]"
   ]
  },
  {
   "cell_type": "code",
   "execution_count": 63,
   "metadata": {},
   "outputs": [
    {
     "name": "stdout",
     "output_type": "stream",
     "text": [
      "(27, 480, 640)\n"
     ]
    },
    {
     "data": {
      "text/plain": [
       "<matplotlib.image.AxesImage at 0x252d40fe820>"
      ]
     },
     "execution_count": 63,
     "metadata": {},
     "output_type": "execute_result"
    }
   ],
   "source": [
    "print(im_data.shape)\n",
    "\n",
    "plt.imshow(np.hstack(im_data[[0,20,-1]]), cmap=\"jet\")"
   ]
  },
  {
   "cell_type": "markdown",
   "metadata": {},
   "source": [
    "## Select Frames to Annotate "
   ]
  },
  {
   "cell_type": "code",
   "execution_count": 5,
   "metadata": {},
   "outputs": [
    {
     "data": {
      "text/plain": [
       "0"
      ]
     },
     "execution_count": 5,
     "metadata": {},
     "output_type": "execute_result"
    }
   ],
   "source": [
    "#root = \"C:\\\\Users\\\\eac84\\\\Desktop\\\\IRT Surgery\"\n",
    "root = \"T:/ProjectData/DIEP FLAP/\"\n",
    "root = \"I:/3_phd/Edgar/DIEP FLAP/*.H5\"\n",
    "xvi_fns = glob.glob( root + \"*\")\n",
    "len(xvi_fns)"
   ]
  },
  {
   "cell_type": "code",
   "execution_count": null,
   "metadata": {},
   "outputs": [],
   "source": [
    "import glob\n",
    "import ThemoData"
   ]
  },
  {
   "cell_type": "code",
   "execution_count": null,
   "metadata": {},
   "outputs": [],
   "source": [
    " data = ThermoData(fn)"
   ]
  },
  {
   "cell_type": "code",
   "execution_count": null,
   "metadata": {},
   "outputs": [],
   "source": [
    "plt.figure()\n",
    "plt.title(\"Q: Quit \\n S:Save Frame\\n N:Next Movie\\n\")\n",
    "plt.axis(\"off\")"
   ]
  },
  {
   "cell_type": "code",
   "execution_count": null,
   "metadata": {},
   "outputs": [],
   "source": [
    "xvi_fns = glob.glob( root + \"\\\\*\\\\*.H5\")\n",
    "for fn in xvi_fns[5:22]:\n",
    "    data = ThermoData(fn)\n",
    "    select_dataset_frames(fn, data, out_dir=\"./training\")"
   ]
  },
  {
   "cell_type": "markdown",
   "metadata": {},
   "source": [
    "## Annotate Data"
   ]
  },
  {
   "cell_type": "code",
   "execution_count": null,
   "metadata": {},
   "outputs": [],
   "source": [
    "#from thermography_python.io import *\n",
    "from Annotation.image_annotator import *\n",
    "from thermography_python.base import *\n",
    "import glob\n",
    "import matplotlib.pyplot as plt"
   ]
  },
  {
   "cell_type": "code",
   "execution_count": null,
   "metadata": {},
   "outputs": [],
   "source": [
    "root = \"./\"\n",
    "fns = glob.glob(root +  \"*.H5\")\n",
    "fns"
   ]
  },
  {
   "cell_type": "code",
   "execution_count": null,
   "metadata": {},
   "outputs": [],
   "source": [
    "\n",
    "an = Annotate(fns,exclude_labeled=False, run=False)\n",
    "an.image_dataset = \"im_data\"\n",
    "an.label_dataset = \"labels\"\n",
    "an.open_window()\n"
   ]
  },
  {
   "cell_type": "code",
   "execution_count": null,
   "metadata": {},
   "outputs": [],
   "source": [
    "plt.imshow(read_H5(fns[9],\"labels\"))"
   ]
  },
  {
   "cell_type": "code",
   "execution_count": null,
   "metadata": {},
   "outputs": [],
   "source": [
    "plt.imshow(read_H5(fns[9],\"im_data\")[30])"
   ]
  },
  {
   "cell_type": "code",
   "execution_count": null,
   "metadata": {},
   "outputs": [],
   "source": [
    "an.model = model"
   ]
  },
  {
   "cell_type": "code",
   "execution_count": null,
   "metadata": {
    "scrolled": true
   },
   "outputs": [],
   "source": [
    "import h5py"
   ]
  },
  {
   "cell_type": "code",
   "execution_count": null,
   "metadata": {},
   "outputs": [],
   "source": [
    "freq_slider.valmin"
   ]
  },
  {
   "cell_type": "code",
   "execution_count": null,
   "metadata": {},
   "outputs": [],
   "source": []
  },
  {
   "cell_type": "code",
   "execution_count": null,
   "metadata": {},
   "outputs": [],
   "source": [
    "an.save_label_images()"
   ]
  },
  {
   "cell_type": "markdown",
   "metadata": {},
   "source": [
    "## Train Network"
   ]
  },
  {
   "cell_type": "code",
   "execution_count": null,
   "metadata": {},
   "outputs": [],
   "source": [
    "import torch\n",
    "import glob as glob\n",
    "import matplotlib.pyplot as plt"
   ]
  },
  {
   "cell_type": "code",
   "execution_count": null,
   "metadata": {},
   "outputs": [],
   "source": [
    "from retna.networks import *\n",
    "from retna.training import *\n",
    "from retna.data_loader import *\n",
    "from retna.view import *\n"
   ]
  },
  {
   "cell_type": "code",
   "execution_count": null,
   "metadata": {},
   "outputs": [],
   "source": [
    "#model = torch.load(\".\\\\models\\\\flap_model.pt\", map_location=torch.device('cpu'))\n",
    "#model = torch.load('./models/Flap+Pref3.pt',  map_location=torch.device('cpu'))\n",
    "model = torch.load('./models/Flap4channel1.pt',  map_location=torch.device('cpu'))\n"
   ]
  },
  {
   "cell_type": "code",
   "execution_count": null,
   "metadata": {},
   "outputs": [],
   "source": [
    "in_channel = 1\n",
    "out_channel = 2\n",
    "h_chans = [8,8,8,8]\n",
    "\n",
    "model = Retna_V1(in_channel, out_channel, h_chans)\n",
    "#model = V_Net(in_channel, out_channel, h_chans).to(device)"
   ]
  },
  {
   "cell_type": "code",
   "execution_count": null,
   "metadata": {},
   "outputs": [],
   "source": [
    "device = torch.device(\"cuda:0\" if torch.cuda.is_available() else \"cpu\")\n",
    "model = model.to(device)"
   ]
  },
  {
   "cell_type": "code",
   "execution_count": null,
   "metadata": {},
   "outputs": [],
   "source": [
    "loader.device"
   ]
  },
  {
   "cell_type": "code",
   "execution_count": null,
   "metadata": {},
   "outputs": [],
   "source": [
    "read.read_H5(fns[1])"
   ]
  },
  {
   "cell_type": "code",
   "execution_count": 283,
   "metadata": {},
   "outputs": [],
   "source": [
    "fns = np.array(xvi_fns)[[18,24,39,46]]\n",
    "DataSet = H5_Handler(fns, datasets=[\"im_data\",\"im_data\"], which=\"all\")\n",
    "Loader = DataLoader(DataSet)\n",
    "Loader.dataset.outsize = [150,200]\n",
    "Loader.dataset.scale_range = [.1,.4]\n",
    "Loader.dataset.rand_flip = [0.5,0]\n",
    "Loader.dataset.noise = True\n",
    "Loader.dataset.noise_range = [-0.2,0.2]\n",
    "Loader.dataset.noise_low  = -0.3\n",
    "Loader.dataset.noise_high = 0.3\n",
    "Loader.dataset.rand_noise = 0.5"
   ]
  },
  {
   "cell_type": "code",
   "execution_count": 284,
   "metadata": {},
   "outputs": [
    {
     "name": "stdout",
     "output_type": "stream",
     "text": [
      "s\n",
      "[34]\ts\n",
      "[127]\ts\n",
      "[228]\ts\n",
      "[117]\ts\n",
      "[283]\ts\n",
      "[51]\ts\n",
      "[143]\ts\n",
      "[204]\ts\n",
      "[15]\ts\n",
      "[72]\ts\n",
      "[261]\ts\n",
      "[220]\ts\n",
      "[84]\ts\n",
      "[168]\ts\n",
      "[170]\ts\n",
      "[123]\ts\n",
      "[265]\ts\n",
      "[37]\ts\n",
      "[9]\ts\n",
      "[233]\ts\n",
      "[272]\ts\n",
      "[243]\ts\n",
      "[194]\ts\n",
      "[17]\ts\n",
      "[280]\ts\n",
      "[7]\ts\n",
      "[290]\ts\n",
      "[198]\ts\n",
      "[135]\ts\n",
      "[192]\t"
     ]
    }
   ],
   "source": [
    "plt.close(\"\")\n",
    "print_mosaic(Loader,m=6, n=5)"
   ]
  },
  {
   "cell_type": "code",
   "execution_count": 254,
   "metadata": {},
   "outputs": [
    {
     "data": {
      "text/plain": [
       "<matplotlib.image.AxesImage at 0x23a8b796460>"
      ]
     },
     "execution_count": 254,
     "metadata": {},
     "output_type": "execute_result"
    }
   ],
   "source": [
    "plt.imshow(random_ramp((20,20)))"
   ]
  },
  {
   "cell_type": "code",
   "execution_count": 239,
   "metadata": {},
   "outputs": [],
   "source": [
    "def random_ramp(shape):\n",
    "    a,b = np.random.randint(low=-1, high = 2, size =2)\n",
    "    x = np.linspace(a,-a, shape[0])\n",
    "    y = np.linspace(b,-b, shape[1])\n",
    "\n",
    "    X, Y = np.meshgrid(x, y)\n",
    "\n",
    "    return X*Y"
   ]
  },
  {
   "cell_type": "code",
   "execution_count": 56,
   "metadata": {},
   "outputs": [],
   "source": [
    "###########################\n",
    "Loader.dataset.channels[1] = None\n",
    "Loader.dataset.threshold = None\n",
    "Loader.dataset.outsize = [200,200]\n",
    "Loader.dataset.expand_label = True\n",
    "Loader.dataset.scale_range = [.3,.4]\n",
    "#Loader.dataset.remap_label = [[1,0,0,0],\n",
    "                              [1,1,0,0],\n",
    "                              [1,0,1,0],\n",
    "                              [1,0,0,1] ]"
   ]
  },
  {
   "cell_type": "code",
   "execution_count": 61,
   "metadata": {},
   "outputs": [
    {
     "name": "stdout",
     "output_type": "stream",
     "text": [
      "[86]\t[17]\t[27]\t[88]\t[64]\t[50]\t[63]\t[38]\t[11]\t[108]\t[93]\t[38]\t[23]\t[97]\t[92]\t[16]\t[42]\t[67]\t[73]\t[11]\t[73]\t[7]\t[110]\t[74]\t[47]\t"
     ]
    }
   ],
   "source": [
    "print_mosaic(Loader,m=5, n=5)"
   ]
  },
  {
   "cell_type": "code",
   "execution_count": 54,
   "metadata": {},
   "outputs": [
    {
     "ename": "NameError",
     "evalue": "name 'model' is not defined",
     "output_type": "error",
     "traceback": [
      "\u001b[1;31m---------------------------------------------------------------------------\u001b[0m",
      "\u001b[1;31mNameError\u001b[0m                                 Traceback (most recent call last)",
      "\u001b[1;32m<ipython-input-54-714848b2018f>\u001b[0m in \u001b[0;36m<module>\u001b[1;34m\u001b[0m\n\u001b[1;32m----> 1\u001b[1;33m \u001b[0mmodel\u001b[0m\u001b[1;33m.\u001b[0m\u001b[0mtrain_model_x\u001b[0m\u001b[1;33m(\u001b[0m\u001b[0mLoader\u001b[0m\u001b[1;33m,\u001b[0m \u001b[0mnum_epochs\u001b[0m \u001b[1;33m=\u001b[0m \u001b[1;36m50\u001b[0m\u001b[1;33m)\u001b[0m\u001b[1;33m\u001b[0m\u001b[1;33m\u001b[0m\u001b[0m\n\u001b[0m",
      "\u001b[1;31mNameError\u001b[0m: name 'model' is not defined"
     ]
    }
   ],
   "source": [
    "model.train_model(Loader, num_epochs = 50)"
   ]
  },
  {
   "cell_type": "markdown",
   "metadata": {},
   "source": [
    "## Load the Data"
   ]
  },
  {
   "cell_type": "code",
   "execution_count": null,
   "metadata": {},
   "outputs": [],
   "source": [
    "label_fn = glob.glob(\"./Training/*_label.tiff\")\n",
    "dataSet = Tiff_Handler(label_fn)\n",
    "Loader = DataLoader(dataSet)"
   ]
  },
  {
   "cell_type": "code",
   "execution_count": null,
   "metadata": {},
   "outputs": [],
   "source": [
    "root = \"C:/Users/eac84/Desktop/Test_Flap_data/\"\n",
    "fns = glob.glob(root +  \"2*.H5\")\n",
    "print(fns)\n",
    "DataSet = H5_Handler(fns, datasets=[\"im_data\",\"labels\"], which=\"all\")\n",
    "Loader = DataLoader(DataSet)\n"
   ]
  },
  {
   "cell_type": "code",
   "execution_count": null,
   "metadata": {},
   "outputs": [],
   "source": []
  },
  {
   "cell_type": "code",
   "execution_count": null,
   "metadata": {},
   "outputs": [],
   "source": []
  },
  {
   "cell_type": "code",
   "execution_count": null,
   "metadata": {},
   "outputs": [],
   "source": [
    "if 0:\n",
    "    Loader.dataset.device=\"cpu\"\n",
    "    model = model.to(\"cpu\")\n",
    "else:\n",
    "    Loader.dataset.device=\"cuda:0\"\n",
    "    model = model.to(\"cuda:0\")"
   ]
  },
  {
   "cell_type": "code",
   "execution_count": null,
   "metadata": {
    "scrolled": true
   },
   "outputs": [],
   "source": [
    "in_channel = 1\n",
    "out_channel = 4\n",
    "h_chans = [16,16,16,16,16]\n",
    "model = Retna_V1(in_channel, out_channel, h_chans)"
   ]
  },
  {
   "cell_type": "code",
   "execution_count": 55,
   "metadata": {
    "scrolled": true
   },
   "outputs": [
    {
     "name": "stdout",
     "output_type": "stream",
     "text": [
      "[85]\t[45]\t[55]\t[14]\t[36]\t[41]\t[57]\t[28]\t[0]\t[96]\t[2]\t[20]\t[40]\t[16]\t[53]\t[43]\t[21]\t[68]\t[58]\t[71]\t[93]\t[79]\t[0]\t[3]\t[13]\t"
     ]
    }
   ],
   "source": []
  },
  {
   "cell_type": "code",
   "execution_count": null,
   "metadata": {},
   "outputs": [],
   "source": [
    "print_comparisons(model,Loader)"
   ]
  },
  {
   "cell_type": "code",
   "execution_count": null,
   "metadata": {},
   "outputs": [],
   "source": [
    "plt.hist(Loader.dataset.selection_weights)"
   ]
  },
  {
   "cell_type": "code",
   "execution_count": null,
   "metadata": {
    "scrolled": true
   },
   "outputs": [],
   "source": [
    "draw_model_params(model)"
   ]
  },
  {
   "cell_type": "code",
   "execution_count": null,
   "metadata": {},
   "outputs": [],
   "source": [
    "Loader.dataset.reset_weights()"
   ]
  },
  {
   "cell_type": "code",
   "execution_count": null,
   "metadata": {},
   "outputs": [],
   "source": [
    "device = torch.device(\"cuda:0\" if torch.cuda.is_available() else \"cpu\")\n",
    "model = torch.load(\".\\\\models\\\\flap_model.pt\", map_location=torch.device('cpu'))\n",
    "model  = model.to(device)"
   ]
  },
  {
   "cell_type": "code",
   "execution_count": null,
   "metadata": {},
   "outputs": [],
   "source": [
    "#path = \"./models\"\n",
    "#if not os.path.isdir(path): os.mkdir(path)\n",
    "torch.save(model, './models/Flap4channel.pt')"
   ]
  },
  {
   "cell_type": "code",
   "execution_count": null,
   "metadata": {},
   "outputs": [],
   "source": [
    "model"
   ]
  },
  {
   "cell_type": "code",
   "execution_count": null,
   "metadata": {},
   "outputs": [],
   "source": [
    "model = add_block(model)"
   ]
  },
  {
   "cell_type": "code",
   "execution_count": null,
   "metadata": {},
   "outputs": [],
   "source": [
    "Loader.dataset.reset_weights()"
   ]
  },
  {
   "cell_type": "code",
   "execution_count": null,
   "metadata": {},
   "outputs": [],
   "source": []
  },
  {
   "cell_type": "markdown",
   "metadata": {},
   "source": [
    "## Sandbox"
   ]
  },
  {
   "cell_type": "code",
   "execution_count": null,
   "metadata": {},
   "outputs": [],
   "source": [
    "\n",
    "## Not sure how to add this to annotator \n",
    "fns = glob.glob(\".\\\\training\\\\*_input.tiff\")\n",
    "cv2.namedWindow(\"\", cv2.WINDOW_NORMAL)\n",
    "cv2.resizeWindow(\"\", 1400, 600)   \n",
    "\n",
    "bad_names = []\n",
    "for fn in fns:\n",
    "    fn2 = fn.replace(\"input\",\"label\")\n",
    "    if os.path.exists(fn2):\n",
    "        im = io.imread(fn)\n",
    "        im2 = io.imread(fn2)       \n",
    "        draw = np.hstack((im,im2*100))\n",
    "        cv2.imshow(\"\",draw)   \n",
    "        \n",
    "        key = cv2.waitKeyEx(10000)\n",
    "        if key == ord('s'):                \n",
    "            print(\".\")\n",
    "        \n",
    "        if key == ord('b'):                \n",
    "            bad_names.append( fn2 )\n",
    "\n",
    "cv2.destroyAllWindows()   "
   ]
  }
 ],
 "metadata": {
  "kernelspec": {
   "display_name": "base",
   "language": "python",
   "name": "python3"
  },
  "language_info": {
   "codemirror_mode": {
    "name": "ipython",
    "version": 3
   },
   "file_extension": ".py",
   "mimetype": "text/x-python",
   "name": "python",
   "nbconvert_exporter": "python",
   "pygments_lexer": "ipython3",
   "version": "3.8.8"
  },
  "vscode": {
   "interpreter": {
    "hash": "f4e03f01e565ae8e091f8ef0a5223632206e93acad06c384aab58edb9101e423"
   }
  }
 },
 "nbformat": 4,
 "nbformat_minor": 2
}
