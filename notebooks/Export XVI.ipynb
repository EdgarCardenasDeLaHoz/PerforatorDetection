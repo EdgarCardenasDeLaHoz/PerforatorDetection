{
 "cells": [
  {
   "cell_type": "code",
   "execution_count": 59,
   "metadata": {},
   "outputs": [],
   "source": [
    "import glob\n",
    "import matplotlib.pyplot as plt\n",
    "import os\n",
    "import h5py "
   ]
  },
  {
   "cell_type": "code",
   "execution_count": 27,
   "metadata": {},
   "outputs": [
    {
     "data": {
      "text/plain": [
       "'C:\\\\Users\\\\eac84\\\\Universiteit Antwerpen\\\\Thermography - Biomedical thermography\\\\src'"
      ]
     },
     "execution_count": 27,
     "metadata": {},
     "output_type": "execute_result"
    }
   ],
   "source": [
    "os.getcwd()"
   ]
  },
  {
   "cell_type": "code",
   "execution_count": 24,
   "metadata": {},
   "outputs": [],
   "source": [
    "import os\n",
    "os.chdir(\"..\")"
   ]
  },
  {
   "cell_type": "code",
   "execution_count": 3,
   "metadata": {},
   "outputs": [],
   "source": [
    "%load_ext line_profiler\n",
    "%load_ext autoreload\n",
    "%autoreload 2\n",
    "%matplotlib qt"
   ]
  },
  {
   "cell_type": "code",
   "execution_count": 28,
   "metadata": {},
   "outputs": [],
   "source": [
    "from thermography_python import read_data"
   ]
  },
  {
   "cell_type": "code",
   "execution_count": 4,
   "metadata": {},
   "outputs": [],
   "source": [
    "import glob"
   ]
  },
  {
   "cell_type": "code",
   "execution_count": 84,
   "metadata": {},
   "outputs": [],
   "source": [
    "def export_xvis(root):\n",
    "    xvi_fns = glob.glob(root + \"/*.xvi\")\n",
    "    for fn in xvi_fns:\n",
    "        export_xvi(fn)\n",
    "\n",
    "def export_datasets(root):\n",
    "\n",
    "    H5_fns = glob.glob(root + \"\\\\*.H5\")\n",
    "    print(H5_fns)\n",
    "    for fn in H5_fns:  \n",
    "        export_xvi(fn)\n",
    "    \n",
    "def export_xvifile(fn,fn_out=None):\n",
    "    \n",
    "    if fn_out is None:\n",
    "        fn_out = fn.replace(\".xvi\",\".H5\").replace(\".XVI\",\".H5\")\n",
    "    \n",
    "    XVI = read_data.XviReader(fn)\n",
    "    samp_rate = 10\n",
    "    samples = np.arange(0,len(XVI),samp_rate)\n",
    "    \n",
    "    if len(XVI)==0: return \n",
    "    im_data = np.array([XVI[fr] for fr in samples])\n",
    "        \n",
    "    minx = np.min((im_data[0],im_data[-1]))\n",
    "    maxx = np.max((im_data[0],im_data[-1]))\n",
    "    limits = [minx,maxx]\n",
    "    \n",
    "    im_data = reduce_uint16(im_data,limits)\n",
    "    \n",
    "    attributes = {'FPS': 1, \n",
    "                  'camera_model':'XENIX', \n",
    "                  \"limits\":limits,\n",
    "                  \"sample_rate\":samp_rate}\n",
    "\n",
    "    save_h5(fn_out , im_data, attributes=attributes)\n",
    "    \n",
    "def export_H5file(fn):\n",
    "        \n",
    "    print(fn)\n",
    "    file_parts = fn.split(\"\\\\\")\n",
    "    date = file_parts[-2].replace(\"_\",\"\")\n",
    "    name = file_parts[-1].replace(\" \",\"-\").replace(\"_\",\"\").replace(\".H5\",\"\").replace(\".\",\"-\")\n",
    "    fn_out = root+ \"\\\\\" + date + \"_\" + name + \".H5\"\n",
    "    \n",
    "    with h5py.File(fn, 'r') as fh:  \n",
    "        \n",
    "        if \"im_data\" not in fh: return\n",
    "            \n",
    "        attributes = {}\n",
    "        for k in fh[\"im_data\"].attrs.keys(): attributes[k] = fh[\"im_data\"].attrs[k]            \n",
    "            \n",
    "    #if attributes[\"FPS\"] == 1: continue \n",
    "                \n",
    "    with h5py.File(fn, 'r') as fh:  \n",
    "        \n",
    "        im = fh[\"im_data\"][::samp]\n",
    "                \n",
    "    im = reduce_uint16(im)\n",
    "    \n",
    "    attributes = {'FPS': 1, 'camera_model': 'XENIX', \n",
    "                  limits:[9000,17000], \"sample_rate\":samp}\n",
    "        \n",
    "    save_h5(fn_out , im, attributes=attributes)\n",
    "    \n",
    "    \n",
    "def reduce_uint16(im, limits):\n",
    "    \n",
    "    #limits = 9000,17000# it was 16000\n",
    "    lo,hi = limits\n",
    "        \n",
    "    if im.dtype == np.uint16:    \n",
    "        im = im - lo\n",
    "        im = im * 255./(hi-lo)\n",
    "        im = im.clip(0,255)\n",
    "        im = im.astype(np.uint8)\n",
    "\n",
    "    return im\n",
    "\n",
    "def save_h5(fn, im, attributes=None):  \n",
    "    \n",
    "    with h5py.File(fn, 'a') as fh:\n",
    "        if \"im_data\" in fh.keys(): del fh[\"im_data\"]\n",
    "        dset = fh.create_dataset(\"im_data\", data=im , compression=\"lzf\" )\n",
    "        if attributes is not None:\n",
    "            for key in attributes:\n",
    "                dset.attrs[key] = attributes[key]\n",
    "    \n",
    "    "
   ]
  },
  {
   "cell_type": "code",
   "execution_count": 85,
   "metadata": {},
   "outputs": [],
   "source": [
    "root = \"C:/Users/eac84/Desktop/Test_Flap_data/\"\n",
    "H5_fns = glob.glob(root +  \"2*.H5\")\n",
    "H5_fns = [fn.split(\"\\\\\")[-1][:8] for fn in H5_fns]\n",
    "H5_fns\n",
    "##########\n",
    "root2 = \"T:\\ProjectData\\\\\"\n",
    "xvi_fns = glob.glob(root2+\"UZADIEPFlap\\\\20**\\\\*pre*.xvi\",recursive=True)\n",
    "##########"
   ]
  },
  {
   "cell_type": "code",
   "execution_count": null,
   "metadata": {},
   "outputs": [],
   "source": []
  },
  {
   "cell_type": "code",
   "execution_count": 86,
   "metadata": {},
   "outputs": [
    {
     "name": "stdout",
     "output_type": "stream",
     "text": [
      "0\n",
      "C:/Users/eac84/Desktop/Test_Flap_data/20181019_PRE.H5\n",
      "1\n",
      "C:/Users/eac84/Desktop/Test_Flap_data/20181019_PRE2_EXTRA30SKOELING.H5\n",
      "2\n",
      "C:/Users/eac84/Desktop/Test_Flap_data/20190326_PRE1.H5\n",
      "3\n",
      "C:/Users/eac84/Desktop/Test_Flap_data/20190402_PRE1.H5\n",
      "4\n",
      "C:/Users/eac84/Desktop/Test_Flap_data/20190430_PRE1.H5\n",
      "5\n",
      "C:/Users/eac84/Desktop/Test_Flap_data/20190920_1-PRE-UZA-20-09-19.H5\n",
      "6\n",
      "C:/Users/eac84/Desktop/Test_Flap_data/20200107_PRE-OP-1.H5\n",
      "7\n",
      "C:/Users/eac84/Desktop/Test_Flap_data/20200107_PRE-OP-MET-COOLING.H5\n",
      "8\n",
      "C:/Users/eac84/Desktop/Test_Flap_data/20200107_PRE-OP-MET-PERFOS.H5\n",
      "9\n",
      "C:/Users/eac84/Desktop/Test_Flap_data/20200117_PRE-MET-COOLING.H5\n",
      "10\n",
      "C:/Users/eac84/Desktop/Test_Flap_data/20200117_PRE-OP.H5\n",
      "11\n",
      "C:/Users/eac84/Desktop/Test_Flap_data/20200121_PRE-OP-MET-COOLING.H5\n",
      "12\n",
      "C:/Users/eac84/Desktop/Test_Flap_data/20200121_PRE-OP-ZONDER-COOLING.H5\n",
      "13\n",
      "C:/Users/eac84/Desktop/Test_Flap_data/20200122_PRE-OP-MET-AANDUIDEN.H5\n",
      "14\n",
      "C:/Users/eac84/Desktop/Test_Flap_data/20200122_PRE-OP-MET-COOLING.H5\n",
      "15\n",
      "C:/Users/eac84/Desktop/Test_Flap_data/20200122_PRE-OP-ZONDER-COOLING.H5\n",
      "16\n",
      "C:/Users/eac84/Desktop/Test_Flap_data/20200207_PRE-OP-MET-COOLING-LAAT.H5\n",
      "17\n",
      "C:/Users/eac84/Desktop/Test_Flap_data/20200207_PRE-OP-MET-COOLING.H5\n",
      "18\n",
      "C:/Users/eac84/Desktop/Test_Flap_data/20200207_PRE-OP-ZONDER-COOLING.H5\n",
      "19\n",
      "C:/Users/eac84/Desktop/Test_Flap_data/20200212_1-PRE-OP-ZONDER-COOLING.H5\n",
      "20\n",
      "C:/Users/eac84/Desktop/Test_Flap_data/20200212_2-PRE-OP-MET-COOLING.H5\n",
      "21\n",
      "C:/Users/eac84/Desktop/Test_Flap_data/20201119_PRE.H5\n",
      "22\n",
      "C:/Users/eac84/Desktop/Test_Flap_data/20210226_PRE-OP-MET-COOLING.H5\n",
      "23\n",
      "C:/Users/eac84/Desktop/Test_Flap_data/20210226_PRE-OP-ZONDER-COOLING.H5\n",
      "24\n",
      "C:/Users/eac84/Desktop/Test_Flap_data/20210312_PRE-OP-ONGEKOELD.H5\n",
      "25\n",
      "C:/Users/eac84/Desktop/Test_Flap_data/20210312_PRE-OP-ONGEKOELDFILIP.H5\n",
      "26\n",
      "C:/Users/eac84/Desktop/Test_Flap_data/20210312_PRE_OP_MET_KOELING.H5\n",
      "27\n",
      "C:/Users/eac84/Desktop/Test_Flap_data/20210312_PRE_OP_ZONDER_KOELING.H5\n",
      "28\n",
      "C:/Users/eac84/Desktop/Test_Flap_data/20220420_PRE-OP-MET-COOLING-ZONDER-INCISIE.H5\n",
      "29\n",
      "C:/Users/eac84/Desktop/Test_Flap_data/20220420_PRE-OP-ZONDER-COOLING.H5\n",
      "30\n",
      "C:/Users/eac84/Desktop/Test_Flap_data/20220615_PRE-OP-GEKOELD.H5\n",
      "31\n",
      "C:/Users/eac84/Desktop/Test_Flap_data/20220615_PRE-OP-ONGEKOELD.H5\n"
     ]
    }
   ],
   "source": [
    "for n,fn in enumerate(xvi_fns):\n",
    "    \n",
    "    x = fn.split(\"\\\\\")[-2].split(\" - \")[0].replace(\"-\",\"\").replace(\"_\",\"-\")\n",
    "    x = x + \"_\"+ fn.split(\"\\\\\")[-1].replace(\" \",\"-\").replace(\".xvi\",\"\").replace(\".\",\"\")\n",
    "    x = x.replace(\"pre1\",\"pre\") + \".H5\"\n",
    "    x = root + x.upper()\n",
    "    \n",
    "    #if x[:8] in H5_fns: continue \n",
    "    print(n)\n",
    "    print(x)\n",
    "        \n",
    "    export_xvifile(fn,x)"
   ]
  },
  {
   "cell_type": "code",
   "execution_count": 39,
   "metadata": {},
   "outputs": [],
   "source": [
    "import numpy as np"
   ]
  },
  {
   "cell_type": "code",
   "execution_count": 52,
   "metadata": {},
   "outputs": [
    {
     "data": {
      "text/plain": [
       "6000"
      ]
     },
     "execution_count": 52,
     "metadata": {},
     "output_type": "execute_result"
    }
   ],
   "source": [
    "10*60*10"
   ]
  },
  {
   "cell_type": "markdown",
   "metadata": {},
   "source": [
    "###### trmo_data = ThermoData(fn)\n",
    "trmo_data.save_H5()"
   ]
  },
  {
   "cell_type": "code",
   "execution_count": 226,
   "metadata": {},
   "outputs": [],
   "source": [
    "import read_data as read"
   ]
  },
  {
   "cell_type": "code",
   "execution_count": 254,
   "metadata": {},
   "outputs": [
    {
     "data": {
      "text/plain": [
       "<matplotlib.image.AxesImage at 0x1b6547e8bb0>"
      ]
     },
     "execution_count": 254,
     "metadata": {},
     "output_type": "execute_result"
    }
   ],
   "source": [
    "plt.imshow(im_data[-1])"
   ]
  },
  {
   "cell_type": "code",
   "execution_count": 278,
   "metadata": {},
   "outputs": [],
   "source": [
    "im_data = np.array(im_data)"
   ]
  },
  {
   "cell_type": "code",
   "execution_count": 279,
   "metadata": {},
   "outputs": [
    {
     "data": {
      "text/plain": [
       "[<matplotlib.lines.Line2D at 0x1b600e2fe20>]"
      ]
     },
     "execution_count": 279,
     "metadata": {},
     "output_type": "execute_result"
    }
   ],
   "source": [
    "plt.plot(im_data[:,200,200])"
   ]
  },
  {
   "cell_type": "code",
   "execution_count": 149,
   "metadata": {},
   "outputs": [],
   "source": [
    "import numpy as np"
   ]
  },
  {
   "cell_type": "code",
   "execution_count": 32,
   "metadata": {},
   "outputs": [],
   "source": [
    "%matplotlib qt"
   ]
  },
  {
   "cell_type": "code",
   "execution_count": null,
   "metadata": {},
   "outputs": [],
   "source": [
    "import h5py"
   ]
  },
  {
   "cell_type": "code",
   "execution_count": null,
   "metadata": {},
   "outputs": [],
   "source": [
    "root = \"T:\\ProjectData\\\\DIEP FLAP\\\\\""
   ]
  },
  {
   "cell_type": "code",
   "execution_count": 205,
   "metadata": {},
   "outputs": [],
   "source": [
    "root = \"C:\\\\Users\\\\eac84\\\\Desktop\\\\\""
   ]
  },
  {
   "cell_type": "code",
   "execution_count": 209,
   "metadata": {},
   "outputs": [
    {
     "name": "stdout",
     "output_type": "stream",
     "text": [
      "['C:\\\\Users\\\\eac84\\\\Desktop\\\\pre op met cooling.H5', 'C:\\\\Users\\\\eac84\\\\Desktop\\\\strm_data.h5']\n",
      "C:\\Users\\eac84\\Desktop\\pre op met cooling.H5\n",
      "{'FPS': 30, 'camera_model': 'XENIX'}\n",
      "C:\\Users\\eac84\\Desktop\\strm_data.h5\n"
     ]
    }
   ],
   "source": []
  },
  {
   "cell_type": "code",
   "execution_count": 267,
   "metadata": {},
   "outputs": [],
   "source": []
  },
  {
   "cell_type": "code",
   "execution_count": 268,
   "metadata": {},
   "outputs": [],
   "source": [
    "\n",
    "im2 = reduce_uint16(np.array(im_data))"
   ]
  },
  {
   "cell_type": "code",
   "execution_count": 266,
   "metadata": {},
   "outputs": [
    {
     "data": {
      "text/plain": [
       "<matplotlib.image.AxesImage at 0x1b6549155e0>"
      ]
     },
     "execution_count": 266,
     "metadata": {},
     "output_type": "execute_result"
    }
   ],
   "source": [
    "np.array(im_data)"
   ]
  },
  {
   "cell_type": "code",
   "execution_count": 1,
   "metadata": {},
   "outputs": [
    {
     "ename": "NameError",
     "evalue": "name 'plt' is not defined",
     "output_type": "error",
     "traceback": [
      "\u001b[1;31m---------------------------------------------------------------------------\u001b[0m",
      "\u001b[1;31mNameError\u001b[0m                                 Traceback (most recent call last)",
      "\u001b[1;32m<ipython-input-1-d7d810497fbc>\u001b[0m in \u001b[0;36m<module>\u001b[1;34m\u001b[0m\n\u001b[1;32m----> 1\u001b[1;33m \u001b[0mplt\u001b[0m\u001b[1;33m.\u001b[0m\u001b[0mfigure\u001b[0m\u001b[1;33m(\u001b[0m\u001b[1;33m)\u001b[0m\u001b[1;33m\u001b[0m\u001b[1;33m\u001b[0m\u001b[0m\n\u001b[0m\u001b[0;32m      2\u001b[0m \u001b[0mplt\u001b[0m\u001b[1;33m.\u001b[0m\u001b[0mimshow\u001b[0m\u001b[1;33m(\u001b[0m\u001b[0mim_data\u001b[0m\u001b[1;33m[\u001b[0m\u001b[1;36m1\u001b[0m\u001b[1;33m]\u001b[0m\u001b[1;33m.\u001b[0m\u001b[0mclip\u001b[0m\u001b[1;33m(\u001b[0m\u001b[1;36m0\u001b[0m\u001b[1;33m,\u001b[0m\u001b[1;36m17000\u001b[0m\u001b[1;33m)\u001b[0m\u001b[1;33m)\u001b[0m\u001b[1;33m\u001b[0m\u001b[1;33m\u001b[0m\u001b[0m\n\u001b[0;32m      3\u001b[0m \u001b[0mplt\u001b[0m\u001b[1;33m.\u001b[0m\u001b[0mfigure\u001b[0m\u001b[1;33m(\u001b[0m\u001b[1;33m)\u001b[0m\u001b[1;33m\u001b[0m\u001b[1;33m\u001b[0m\u001b[0m\n\u001b[0;32m      4\u001b[0m \u001b[0mplt\u001b[0m\u001b[1;33m.\u001b[0m\u001b[0mimshow\u001b[0m\u001b[1;33m(\u001b[0m\u001b[0mim2\u001b[0m\u001b[1;33m[\u001b[0m\u001b[1;36m1\u001b[0m\u001b[1;33m]\u001b[0m\u001b[1;33m)\u001b[0m\u001b[1;33m\u001b[0m\u001b[1;33m\u001b[0m\u001b[0m\n",
      "\u001b[1;31mNameError\u001b[0m: name 'plt' is not defined"
     ]
    }
   ],
   "source": [
    "plt.figure()\n",
    "plt.imshow(im_data[1].clip(0,17000))\n",
    "plt.figure()\n",
    "plt.imshow(im2[1])"
   ]
  },
  {
   "cell_type": "code",
   "execution_count": 187,
   "metadata": {},
   "outputs": [],
   "source": [
    "root = \"T:\\ProjectData\\\\DIEP FLAP\\\\\""
   ]
  },
  {
   "cell_type": "code",
   "execution_count": 188,
   "metadata": {},
   "outputs": [],
   "source": [
    "H5_fns = glob.glob(root+ \"*.H5\")"
   ]
  },
  {
   "cell_type": "code",
   "execution_count": 191,
   "metadata": {},
   "outputs": [],
   "source": [
    "fn = H5_fns[10]\n",
    "with h5py.File(fn, 'r') as fh:  \n",
    "    im = fh[\"im_data\"][:]"
   ]
  },
  {
   "cell_type": "code",
   "execution_count": 194,
   "metadata": {},
   "outputs": [
    {
     "data": {
      "text/plain": [
       "<matplotlib.image.AxesImage at 0x1b65401f640>"
      ]
     },
     "execution_count": 194,
     "metadata": {},
     "output_type": "execute_result"
    }
   ],
   "source": []
  },
  {
   "cell_type": "code",
   "execution_count": 180,
   "metadata": {},
   "outputs": [],
   "source": []
  },
  {
   "cell_type": "code",
   "execution_count": null,
   "metadata": {},
   "outputs": [],
   "source": []
  }
 ],
 "metadata": {
  "kernelspec": {
   "display_name": "Python 3",
   "language": "python",
   "name": "python3"
  },
  "language_info": {
   "codemirror_mode": {
    "name": "ipython",
    "version": 3
   },
   "file_extension": ".py",
   "mimetype": "text/x-python",
   "name": "python",
   "nbconvert_exporter": "python",
   "pygments_lexer": "ipython3",
   "version": "3.8.8"
  }
 },
 "nbformat": 4,
 "nbformat_minor": 4
}
